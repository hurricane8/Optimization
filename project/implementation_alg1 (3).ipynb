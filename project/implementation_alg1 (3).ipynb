{
 "cells": [
  {
   "cell_type": "code",
   "execution_count": 44,
   "id": "71dd5261",
   "metadata": {},
   "outputs": [],
   "source": [
    "import numpy as np\n",
    "from numpy import linalg\n",
    "import sklearn \n",
    "from sklearn.model_selection import train_test_split\n",
    "from sklearn.datasets import load_svmlight_file\n",
    "import math\n",
    "import pandas as pd\n",
    "from datetime import datetime\n",
    "from scipy.spatial import distance\n",
    "import re\n",
    "import matplotlib.pyplot as plt\n",
    "import scipy.stats as sts\n",
    "from scipy.stats import ortho_group\n",
    "m = ortho_group.rvs(dim=3)\n",
    "from sklearn import ensemble, model_selection, metrics, tree\n",
    "%matplotlib inline\n",
    "from sklearn.datasets import load_digits\n",
    "import time\n",
    "import pylab"
   ]
  },
  {
   "cell_type": "code",
   "execution_count": 45,
   "id": "eacf6bb7",
   "metadata": {},
   "outputs": [],
   "source": [
    "dataset = \"a9a.txt\"\n",
    "data = load_svmlight_file(dataset)\n",
    "X1, y1 = data[0].toarray(), data[1]\n",
    "n1, d1 = X1.shape\n",
    "\n",
    "X2, y2 = data[0].toarray(), data[1]\n",
    "n2, d2 = X2.shape\n",
    "\n",
    "X3, y3 = data[0].toarray(), data[1]\n",
    "n3, d3 = X3.shape"
   ]
  },
  {
   "cell_type": "code",
   "execution_count": 46,
   "id": "82a55b75",
   "metadata": {},
   "outputs": [
    {
     "name": "stdout",
     "output_type": "stream",
     "text": [
      "97683 123\n"
     ]
    }
   ],
   "source": [
    "X = np.vstack([X1, X2, X3])\n",
    "y = np.concatenate([y1, y2, y3])\n",
    "N, d = X.shape\n",
    "print(N, d)"
   ]
  },
  {
   "cell_type": "code",
   "execution_count": 47,
   "id": "53400f52",
   "metadata": {},
   "outputs": [],
   "source": [
    "mu=0.0\n",
    "std = 0.05 * np.std(X) # for %5 Gaussian noise\n",
    "def gaussian_noise(x,mu,std):\n",
    "    noise = np.random.normal(mu, std, size = x.shape)\n",
    "    x_noisy = x + noise\n",
    "    return x_noisy \n",
    "X = gaussian_noise(X, mu, std)"
   ]
  },
  {
   "cell_type": "code",
   "execution_count": 48,
   "id": "a2e18da8",
   "metadata": {},
   "outputs": [],
   "source": [
    "X_train, X_test, y_train, y_test = train_test_split(X, y, test_size = 0.20, random_state = 42)\n",
    "N_train, d_train = X_train.shape\n",
    "N_test, d_test = X_test.shape"
   ]
  },
  {
   "cell_type": "code",
   "execution_count": 49,
   "id": "72660836",
   "metadata": {},
   "outputs": [],
   "source": [
    "lamb = 0.01"
   ]
  },
  {
   "cell_type": "markdown",
   "id": "5e629588",
   "metadata": {},
   "source": [
    "#### Рассматриваем задачу Ridge Regression\n",
    "$\\underset{\\omega}{min}[ \\frac{1}{2N} ||X\\omega - y||^2 + \\frac{\\lambda}{2}||\\omega||^2]$, $q(\\omega) = \\frac{1}{2N} ||X\\omega - y||^2, p(\\omega) = \\frac{\\lambda}{2}||\\omega||^2$\n",
    "\n",
    "Найдем в явном виде $\\arg\\underset{x}{min} [p(\\omega_k^g) + <\\nabla p(\\omega_k^g), \\nabla p(\\omega_k^g)> + \\frac{1}{2\\Theta}||x - \\omega_k^g||^2 + q(x)]$.\n",
    "\n",
    "Возьмем градиент и приравняем его к нулю: $\\nabla p(\\omega_k^g) + \\frac{1}{\\Theta}(x - \\omega_k^g) + \\nabla q(x) = 0$\n",
    "\n",
    "$\\lambda\\omega_k^g + \\frac{1}{\\Theta}(Ix - \\omega_k^g) + \\frac{1}{N}X^T(Xx - y) = 0$\n",
    "\n",
    "$x = (I\\frac{1}{\\Theta} + \\frac{1}{N}X^TX)^{-1}(\\frac{1}{\\Theta} \\omega_k^g + \\frac{1}{N}X^Ty - \\lambda\\omega_k^g)$\n",
    "Тогда в агоритме 1 в строчке 5: $x_f^{k+1} = x$"
   ]
  },
  {
   "cell_type": "code",
   "execution_count": 50,
   "id": "c68779d6",
   "metadata": {},
   "outputs": [
    {
     "name": "stdout",
     "output_type": "stream",
     "text": [
      "L = 6.297383069548259\n",
      "mu = 0.010243120079273114\n",
      "$L_q$ = 6.287383069548259\n",
      "$mu_q$ = 0.00024312007927313226\n",
      "$L_p$ = 0.01\n",
      "$mu_p$ = 0.01\n"
     ]
    }
   ],
   "source": [
    "L = max(np.linalg.eigvals(1/N_train*X_train.T.dot(X_train) + np.identity(d)*lamb))\n",
    "mu = min(np.linalg.eigvals(1/N_train*X_train.T.dot(X_train) + np.identity(d)*lamb))\n",
    "L_q = max(np.linalg.eigvals(1/N_train*X_train.T.dot(X_train)))\n",
    "mu_q = min(np.linalg.eigvals(1/N_train*X_train.T.dot(X_train)))\n",
    "L_p = max(np.linalg.eigvals(np.identity(d)*lamb))\n",
    "mu_p = min(np.linalg.eigvals(np.identity(d)*lamb))\n",
    "print(\"L =\", L)\n",
    "print(\"mu =\", mu)\n",
    "print(\"$L_q$ =\", L_q)\n",
    "print(\"$mu_q$ =\", mu_q)\n",
    "print(\"$L_p$ =\", L_p)\n",
    "print(\"$mu_p$ =\", mu_p)"
   ]
  },
  {
   "cell_type": "code",
   "execution_count": 53,
   "id": "af2fefb1",
   "metadata": {},
   "outputs": [
    {
     "name": "stdout",
     "output_type": "stream",
     "text": [
      "2.470592867424839e-28\n"
     ]
    }
   ],
   "source": [
    "omega_true = np.linalg.inv(1/N_train*X_train.T@X_train + np.eye(d)*0.01)@(1/N_train*X_train.T@y_train)\n",
    "print(gradient_r(X_train, y_train, omega_true, 0.01).dot(gradient_r(X_train, y_train, omega_true, 0.01)))"
   ]
  },
  {
   "cell_type": "code",
   "execution_count": 51,
   "id": "1a81f410",
   "metadata": {},
   "outputs": [
    {
     "name": "stdout",
     "output_type": "stream",
     "text": [
      "0.8434764805241337\n"
     ]
    }
   ],
   "source": [
    "number_of_true_precisions = 0\n",
    "for i in range (N_test): \n",
    "    if (omega_true.dot(X_test[i]) >= 0):\n",
    "        k = 1\n",
    "    else:\n",
    "        k = -1\n",
    "    if (k == y_test[i]):\n",
    "        number_of_true_precisions = number_of_true_precisions + 1   \n",
    "procent_of_precisions = number_of_true_precisions/y_test.shape[0]\n",
    "print(procent_of_precisions)"
   ]
  },
  {
   "cell_type": "markdown",
   "id": "82b4140e",
   "metadata": {},
   "source": [
    "### Algorithm 1"
   ]
  },
  {
   "cell_type": "code",
   "execution_count": 52,
   "id": "b7572de2",
   "metadata": {},
   "outputs": [],
   "source": [
    "omega_true = np.linalg.inv(1/N_train*X_train.T.dot(X_train) + np.eye(d)*0.01).dot(1/N_train*X_train.T.dot(y_train))\n",
    "def gradient_r(X, y, omega, lamb):\n",
    "    return 1/N_train*X.T.dot(X.dot(omega) - y) + lamb*omega\n",
    "def gradient_q(X, y, omega):\n",
    "    return 1/N_train*X.T.dot(X.dot(omega) - y)\n",
    "def gradient_p(omega, lamb):\n",
    "    return lamb*omega\n",
    "\n",
    "def accelarated_extragradient(tau, eta, theta, alpha, lamb, X, y, start, amount_of_iterations):\n",
    "    omega = start\n",
    "    omega = omega.reshape(1, d)\n",
    "    omega_f = start\n",
    "    omega_f = omega_f.reshape(1, d)\n",
    "    begin_time = time.time()\n",
    "    timeprog = []\n",
    "\n",
    "    for i in range (amount_of_iterations):\n",
    "\n",
    "        \n",
    "        omega_gk = tau*omega[i-1] + (1 - tau)*omega_f[i-1]\n",
    "        omega_f_next = np.linalg.inv(np.identity(d)/theta + 1/N_train*X.T.dot(X)).dot(1/theta*omega_gk + 1/N_train*X.T.dot(y) - lamb*omega_gk)\n",
    "        \n",
    "        grad_r = gradient_r(X, y, omega_f_next, lamb)\n",
    "\n",
    "        omega = np.vstack([omega, omega[i-1] + eta*alpha*(omega_f_next - omega[i-1]) - eta*grad_r])\n",
    "        omega_f = np.vstack([omega_f, omega_f_next])\n",
    "        \n",
    "        timeprog.append(time.time() - begin_time)\n",
    "    return omega, timeprog"
   ]
  },
  {
   "cell_type": "code",
   "execution_count": 162,
   "id": "614427ca",
   "metadata": {},
   "outputs": [],
   "source": [
    "res1, time1 = accelarated_extragradient(0.75, 1/L, 0.01, 0.01, 0.01, X_train, y_train, np.ones(d), 10000)"
   ]
  },
  {
   "cell_type": "code",
   "execution_count": 175,
   "id": "cf4f5fb4",
   "metadata": {},
   "outputs": [
    {
     "data": {
      "image/png": "[encoded data removed]",
      "text/plain": [
       "<Figure size 864x576 with 1 Axes>"
      ]
     },
     "metadata": {
      "needs_background": "light"
     },
     "output_type": "display_data"
    }
   ],
   "source": [
    "X1 = np.array([])\n",
    "for i in range (0, 9998):\n",
    "    X1 = np.append(X1, time1[i])\n",
    "Y1 = np.array([])\n",
    "for i in range (0, 9998):\n",
    "    Y1 = np.append(Y1, (res1[i] - omega_true)@(res1[i] - omega_true))\n",
    "    \n",
    "plt.figure(figsize=(12, 8))\n",
    "\n",
    "plt.semilogy(X1, Y1, linewidth=4, label = 'prox method')\n",
    "\n",
    "plt.legend(loc=\"upper right\", fontsize=15)\n",
    "plt.xlabel(r\"time, s\", fontsize=30)\n",
    "plt.ylabel(\"Criteria value\", fontsize=30)\n",
    "plt.title(r\"Зависимость значения критерия от времени\", fontsize=30)\n",
    "plt.xticks(fontsize=25)\n",
    "plt.yticks(fontsize=25)\n",
    "\n",
    "\n",
    "plt.grid(axis = 'x')"
   ]
  },
  {
   "cell_type": "markdown",
   "id": "28a8e5b6",
   "metadata": {},
   "source": [
    "### Найдем время работы при случайном распределении датасета"
   ]
  },
  {
   "cell_type": "code",
   "execution_count": 22,
   "id": "4afcce52",
   "metadata": {},
   "outputs": [],
   "source": [
    "def find_max_time(X, y, omega, omega_f, b, tau, eta, theta, alpha, lamb, t_loc):\n",
    "    timeprog = []\n",
    "    for i in range (b.shape[0]):\n",
    "        a = np.arange(0, int(b[i]), 1)\n",
    "        X_new = X[a]\n",
    "        y_new = y[a]\n",
    "        \n",
    "        begin_time = time.time()\n",
    "        omega_gk = tau*omega + (1 - tau)*omega_f[i-1]\n",
    "        omega_f_next = np.linalg.inv(np.identity(d)/theta + 1/N*X_new.T.dot(X_new))@(1/theta*omega_gk.T + 1/N*X_new.T.dot(y_new) - lamb*omega_gk.T)      \n",
    "        gradient_r(X_new, y_new, omega_f_next, lamb)\n",
    "        timeprog.append((time.time() - begin_time)*t_loc[i])\n",
    "    return np.argmax(timeprog)\n",
    "\n",
    "\n",
    "def accelarated_extragradient_division(tau, eta, theta, alpha, lamb, X, y, start, amount_of_iterations, b, t_loc, t_comm):\n",
    "    omega = start\n",
    "    omega = omega.reshape(1, d)\n",
    "    omega_f = start\n",
    "    omega_f = omega_f.reshape(1, d)\n",
    "    k = find_max_time(X, y, start, start, b, tau, eta, theta, alpha, lamb, t_loc)\n",
    "    if k == 0:\n",
    "        multiply = 1\n",
    "    else:\n",
    "        multiply = 5\n",
    "    timeprog = []\n",
    "    for i in range (amount_of_iterations):\n",
    "        a = np.arange(0, int(b[k]), 1)\n",
    "        X_max = X[a]\n",
    "        y_max = y[a]\n",
    "        begin_time = time.time()\n",
    "        omega_gk = tau*omega[i-1] + (1 - tau)*omega_f[i-1]\n",
    "        omega_f_next = np.linalg.inv(np.identity(d)/theta + 1/N*X_max.T.dot(X_max)).dot(1/theta*omega_gk + 1/N*X_max.T.dot(y_max) - lamb*omega_gk)\n",
    "        \n",
    "        grad_r = gradient_r(X, y, omega_f_next, lamb)\n",
    "\n",
    "        omega = np.vstack([omega, omega[i-1] + eta*alpha*(omega_f_next - omega[i-1]) - eta*grad_r])\n",
    "        omega_f = np.vstack([omega_f, omega_f_next])\n",
    "    \n",
    "        timeprog.append(multiply*(time.time() - begin_time) + t_comm)\n",
    "    return omega, timeprog"
   ]
  },
  {
   "cell_type": "code",
   "execution_count": 54,
   "id": "9160fe92",
   "metadata": {},
   "outputs": [
    {
     "name": "stdout",
     "output_type": "stream",
     "text": [
      "[1.0579e+04 1.6611e+04 6.6800e+03 9.6400e+02 1.0980e+03 2.5100e+02\n",
      " 4.1650e+03 3.9860e+03 5.0000e+00 2.0508e+04 3.3380e+03 1.0200e+03\n",
      " 4.3420e+03 3.4740e+03 1.1000e+01 9.0000e+01 1.1690e+03 5.2300e+02\n",
      " 3.6600e+03 1.3619e+04]\n"
     ]
    }
   ],
   "source": [
    "def generate_t_loc():\n",
    "    t_loc = [5 for x in range(21)]\n",
    "    t_loc[0] = 1\n",
    "    t_loc = np.array(t_loc)\n",
    "    return t_loc\n",
    "t_loc = generate_t_loc()\n",
    "\n",
    "def generate_b(t_loc):\n",
    "    b = np.random.randint(1, N, t_loc.shape[0] - 1)\n",
    "    b = np.sort(b)\n",
    "    b = np.append(b, N)\n",
    "    b1 = np.array([])\n",
    "    for i in range (t_loc.shape[0] - 1):\n",
    "        b1 = np.append(b1, b[i+1] - b[i])        \n",
    "    return b1\n",
    "b = generate_b(t_loc)\n",
    "print(b)"
   ]
  },
  {
   "cell_type": "code",
   "execution_count": 294,
   "id": "98ceaa19",
   "metadata": {},
   "outputs": [],
   "source": [
    "res2, time2 = accelarated_extragradient_division(0.75, 1/L, 0.01, 0.01, 0.01, X, y, np.ones(d), 10000, b, t_loc, 0.0075/5 *(N**(1.67)))"
   ]
  },
  {
   "cell_type": "code",
   "execution_count": 295,
   "id": "9a691c53",
   "metadata": {},
   "outputs": [
    {
     "name": "stdout",
     "output_type": "stream",
     "text": [
      "3229156248.06114\n"
     ]
    }
   ],
   "source": [
    "print(sum(time2))"
   ]
  },
  {
   "cell_type": "markdown",
   "id": "5da1e6f5",
   "metadata": {},
   "source": [
    "### Найдем время работы в случае больших коммуникаций"
   ]
  },
  {
   "cell_type": "code",
   "execution_count": 55,
   "id": "025ed12b",
   "metadata": {},
   "outputs": [
    {
     "name": "stdout",
     "output_type": "stream",
     "text": [
      "[8026. 4483. 4483. 4483. 4483. 4483. 4483. 4483. 4483. 4483. 4483. 4483.\n",
      " 4483. 4483. 4483. 4482. 4483. 4482. 4483. 4482. 4483.]\n"
     ]
    }
   ],
   "source": [
    "epsilon = 4.855708467588126e-09\n",
    "c1 = 700.0602944751523\n",
    "c2 = c1*1000\n",
    "alpha = c1*(L/mu)**0.5*np.log(1/epsilon)\n",
    "beta = c2*(L/mu)**0.5*np.log(1/epsilon)\n",
    "\n",
    "def generate_t_loc1():\n",
    "    t_loc1 = [5 for x in range(21)]\n",
    "    t_loc1[0] = 1\n",
    "    t_loc1 = np.array(t_loc1)\n",
    "    return t_loc1\n",
    "t_loc1 = generate_t_loc1()\n",
    "\n",
    "def generate_b1(t_loc1, comm):\n",
    "    b1 = np.array([])\n",
    "    b1 = np.append(b1, min(N, round((comm*c1/(4*c2))**0.8)))\n",
    "    last = N\n",
    "    for i in range (1, t_loc1.shape[0]):\n",
    "        last = last - b1[-1]\n",
    "        b1 = np.append(b1, round(last/(t_loc1.shape[0] - i)))\n",
    "    return b1\n",
    "b1 = generate_b1(t_loc1, N**(1.7))\n",
    "print(b1)"
   ]
  },
  {
   "cell_type": "code",
   "execution_count": 288,
   "id": "69afb91e",
   "metadata": {},
   "outputs": [],
   "source": [
    "res3, time3 = accelarated_extragradient_division(0.75, 1/L, 0.01, 0.01, 0.01, X, y, np.ones(d), 10000, b1, t_loc1, 0.0075/5 *(N**(1.67)))"
   ]
  },
  {
   "cell_type": "code",
   "execution_count": 322,
   "id": "241bd5b2",
   "metadata": {},
   "outputs": [
    {
     "name": "stdout",
     "output_type": "stream",
     "text": [
      "3229156185.501327 3229156248.06114\n"
     ]
    }
   ],
   "source": [
    "print(sum(time3),sum(time2))"
   ]
  },
  {
   "cell_type": "markdown",
   "id": "02b13d93",
   "metadata": {},
   "source": [
    "### Найдем время работы в случае малых коммуникаций"
   ]
  },
  {
   "cell_type": "code",
   "execution_count": 56,
   "id": "9ce6aa80",
   "metadata": {},
   "outputs": [
    {
     "name": "stdout",
     "output_type": "stream",
     "text": [
      "[19537.  3907.  3907.  3907.  3907.  3907.  3907.  3907.  3907.  3908.\n",
      "  3907.  3908.  3907.  3908.  3907.  3908.  3907.  3908.  3907.  3908.\n",
      "  3907.]\n"
     ]
    }
   ],
   "source": [
    "def generate_t_loc2():\n",
    "    t_loc1 = np.random.randint(3, 7, 21)\n",
    "    t_loc1[0] = 1\n",
    "    t_loc1 = np.array(t_loc1)\n",
    "    return t_loc1\n",
    "t_loc2 = generate_t_loc2()\n",
    "\n",
    "def generate_b2(t_loc2):\n",
    "    b1 = np.array([])\n",
    "    S = (sum(1/t_loc2[i] for i in range(1, t_loc2.shape[0])))**(-1)\n",
    "    b1 = np.append(b1, round(N*S/(t_loc2[0] + S)))\n",
    "    last = N \n",
    "    for i in range (1, t_loc2.shape[0]):\n",
    "        last -= b1[-1]\n",
    "        S = (sum(1/t_loc2[k] for k in range(i, t_loc2.shape[0])))**(-1)\n",
    "        b1 = np.append(b1, round(last/t_loc2[i]*S))\n",
    "    return b1\n",
    "b2 = generate_b2(t_loc1)\n",
    "print(b2)"
   ]
  },
  {
   "cell_type": "code",
   "execution_count": 300,
   "id": "1fa0975e",
   "metadata": {},
   "outputs": [],
   "source": [
    "res4, time4 = accelarated_extragradient_division(0.75, 1/L, 0.01, 0.01, 0.01, X, y, np.ones(d), 10000, b2, t_loc2, 1e-9)"
   ]
  },
  {
   "cell_type": "code",
   "execution_count": 301,
   "id": "25b82b16",
   "metadata": {},
   "outputs": [],
   "source": [
    "res5, time5 = accelarated_extragradient_division(0.75, 1/L, 0.01, 0.01, 0.01, X, y, np.ones(d), 10000, b, t_loc, 1e-9)"
   ]
  },
  {
   "cell_type": "code",
   "execution_count": 303,
   "id": "3dcbfc32",
   "metadata": {},
   "outputs": [
    {
     "name": "stdout",
     "output_type": "stream",
     "text": [
      "623.3800952297964 639.5168249470508\n"
     ]
    }
   ],
   "source": [
    "print(sum(time4), sum(time5))"
   ]
  },
  {
   "cell_type": "markdown",
   "id": "50af7289",
   "metadata": {},
   "source": [
    "Видим, что есть ускорение, но оно крайне малое относительно времени работы. В чем же дело? Дело в том, что питон перемножает матрицы за крайне малое время и таким образом реальное $k_{some}$ и $max(t_1, ..., t_n)$ слишком малы по сравнению с коммуникациями в первом случае, а во втором случае просто малы, чтобы давать значительный эффект на оптимально распределенном датасете. Покажем это"
   ]
  },
  {
   "cell_type": "code",
   "execution_count": 328,
   "id": "58c760c3",
   "metadata": {},
   "outputs": [
    {
     "name": "stdout",
     "output_type": "stream",
     "text": [
      "Полный градиент q быстрее чем матрица * матрица + столбец * столбец в  3.202085727592249 раз\n",
      "матрица * матрица 0.019334537982940672 стоблец * столбец 0.003450765609741211 Полный градиент q 0.007115769386291504\n"
     ]
    }
   ],
   "source": [
    "finalXX = []\n",
    "for i in range (100):\n",
    "    begin_time = time.time()\n",
    "    np.linalg.inv(X.T.dot(X))\n",
    "    finalXX.append(time.time() - begin_time)\n",
    "XX = sum(finalXX)/100\n",
    "finalXy = []\n",
    "for i in range (100):\n",
    "    begin_time = time.time()\n",
    "    X.T.dot(y)\n",
    "    finalXy.append(time.time() - begin_time)\n",
    "Xy = sum(finalXy)/100\n",
    "final = []\n",
    "for i in range (100):\n",
    "    begin_time = time.time()\n",
    "    X.T.dot(X.dot(np.ones(d)) - y)\n",
    "    final.append(time.time() - begin_time)\n",
    "gr = sum(final)/100\n",
    "tim = (XX + Xy)/gr\n",
    "print(r\"Полный градиент q быстрее чем матрица * матрица + столбец * столбец в \", tim, \"раз\")\n",
    "print(r\"матрица * матрица\", XX, r\"стоблец * столбец\", Xy, \"Полный градиент q\", gr)"
   ]
  },
  {
   "cell_type": "markdown",
   "id": "332bc593",
   "metadata": {},
   "source": [
    "### Для решения этой проблемы строчку 5 в имплементируемом алгоритме будем находить не аналитически, а итеративным спуском $(OGM-G)$"
   ]
  },
  {
   "cell_type": "code",
   "execution_count": 61,
   "id": "6b3e71a2",
   "metadata": {},
   "outputs": [],
   "source": [
    "def gradient(X, y, omega):\n",
    "    return 1/N*X.T.dot(X.dot(omega) - y)"
   ]
  },
  {
   "cell_type": "code",
   "execution_count": 59,
   "id": "94830c66",
   "metadata": {},
   "outputs": [],
   "source": [
    "def OGM_G(X, y, start,L,iterations):\n",
    "    thetas=np.zeros(iterations+1)\n",
    "    #Разбираемся с последователньостью Тетт\n",
    "    thetas[0]=1\n",
    "    for i in range(1,iterations):\n",
    "        thetas[i]=(1+math.sqrt(1+4*thetas[i-1]**2))/2  \n",
    "    thetas[-1]=(1+math.sqrt(1+8*thetas[i-1]**2))/2\n",
    "    \n",
    "    thetas=np.flip(thetas)\n",
    "    \n",
    "    x=start\n",
    "    y1=start\n",
    "    gradients=[]\n",
    "    timeprog = []\n",
    "    begin_time = time.time()\n",
    "    for i in range(1,iterations-1):\n",
    "        y_old = y1\n",
    "        y1 = x - gradient(X, y, x)/L\n",
    "        x=y1+(thetas[i]-1)*(2*thetas[i+1]-1)*(y1-y_old)/thetas[i]/(2*thetas[i]-1)+(2*thetas[i+1]-1)*(y1-x)/(2*thetas[i]-1)\n",
    "        gradients.append(np.linalg.norm(gradient(X, y, x))**2)\n",
    "        timeprog.append(time.time() - begin_time)\n",
    "    return x,gradients, timeprog"
   ]
  },
  {
   "cell_type": "code",
   "execution_count": 107,
   "id": "2dc825f1",
   "metadata": {},
   "outputs": [],
   "source": [
    "OGM_G_RESULTS=OGM_G(X, y, np.ones(d),L,2000)"
   ]
  },
  {
   "cell_type": "code",
   "execution_count": 108,
   "id": "eb799df5",
   "metadata": {},
   "outputs": [
    {
     "data": {
      "image/png": "[encoded data removed]",
      "text/plain": [
       "<Figure size 864x576 with 1 Axes>"
      ]
     },
     "metadata": {
      "needs_background": "light"
     },
     "output_type": "display_data"
    }
   ],
   "source": [
    "plt.figure(figsize=(12, 8))\n",
    "plt.plot(OGM_G_RESULTS[2],OGM_G_RESULTS[1],label='OGM-G')\n",
    "\n",
    "plt.yscale('log')\n",
    "plt.legend()\n",
    "plt.xlabel('время')\n",
    "plt.ylabel('||grad f(x)||')\n",
    "plt.title(\"OGM-G\")\n",
    "plt.show()"
   ]
  },
  {
   "cell_type": "markdown",
   "id": "421233f6",
   "metadata": {},
   "source": [
    "#### Тогда получим новый алгоритм "
   ]
  },
  {
   "cell_type": "code",
   "execution_count": 57,
   "id": "c8616e45",
   "metadata": {},
   "outputs": [],
   "source": [
    "def find_max_time(X, y, omega, omega_f, b, tau, eta, theta, alpha, lamb, t_loc):\n",
    "    timeprog = []\n",
    "    for i in range (b.shape[0]):\n",
    "        a = np.arange(0, int(b[i]), 1)\n",
    "        X_new = X[a]\n",
    "        y_new = y[a]\n",
    "        \n",
    "        begin_time = time.time()\n",
    "        omega_gk = tau*omega + (1 - tau)*omega_f[i-1]\n",
    "        omega_f_next = OGM_G(X_new, y_new, np.ones(d), L, 2000)  \n",
    "        gradient_r(X_new, y_new, omega_f_next[0], lamb)\n",
    "        timeprog.append((time.time() - begin_time)*t_loc[i])\n",
    "    return np.argmax(timeprog)\n",
    "\n",
    "\n",
    "def accelarated_extragradient_division(tau, eta, theta, alpha, lamb, X, y, start, amount_of_iterations, b, t_loc, t_comm):\n",
    "    omega = start\n",
    "    omega = omega.reshape(1, d)\n",
    "    omega_f = start\n",
    "    omega_f = omega_f.reshape(1, d)\n",
    "    k = find_max_time(X, y, start, start, b, tau, eta, theta, alpha, lamb, t_loc)\n",
    "    if k == 0:\n",
    "        multiply = 1\n",
    "    else:\n",
    "        multiply = t_loc[k]\n",
    "    timeprog = []\n",
    "    for i in range (amount_of_iterations):\n",
    "        a = np.arange(0, int(b[k]), 1)\n",
    "        X_max = X[a]\n",
    "        y_max = y[a]\n",
    "        begin_time = time.time()\n",
    "        omega_gk = tau*omega[i-1] + (1 - tau)*omega_f[i-1]\n",
    "        omega_f_next = OGM_G(X_max, y_max, np.ones(d), L, 2000)\n",
    "        \n",
    "        grad_r = gradient_r(X, y, omega_f_next[0], lamb)\n",
    "\n",
    "        omega = np.vstack([omega, omega[i-1] + eta*alpha*(omega_f_next[0] - omega[i-1]) - eta*grad_r])\n",
    "        omega_f = np.vstack([omega_f, omega_f_next[0]])\n",
    "    \n",
    "        timeprog.append(multiply*(time.time() - begin_time) + t_comm)\n",
    "    return omega, timeprog"
   ]
  },
  {
   "cell_type": "markdown",
   "id": "1223cc06",
   "metadata": {},
   "source": [
    "### Для больших коммуникаций"
   ]
  },
  {
   "cell_type": "code",
   "execution_count": 431,
   "id": "5e5697dd",
   "metadata": {
    "scrolled": true
   },
   "outputs": [
    {
     "name": "stdout",
     "output_type": "stream",
     "text": [
      "0\n",
      "1\n",
      "2\n",
      "3\n",
      "4\n",
      "5\n",
      "6\n",
      "7\n",
      "8\n",
      "9\n",
      "10\n",
      "11\n",
      "12\n",
      "13\n",
      "14\n",
      "15\n",
      "16\n",
      "17\n",
      "18\n",
      "19\n",
      "20\n",
      "21\n",
      "22\n",
      "23\n",
      "24\n",
      "25\n",
      "26\n",
      "27\n",
      "28\n",
      "29\n",
      "30\n",
      "31\n",
      "32\n",
      "33\n",
      "34\n",
      "35\n",
      "36\n",
      "37\n",
      "38\n",
      "39\n",
      "40\n",
      "41\n",
      "42\n",
      "43\n",
      "44\n",
      "45\n",
      "46\n",
      "47\n",
      "48\n",
      "49\n",
      "50\n",
      "51\n",
      "52\n",
      "53\n",
      "54\n",
      "55\n",
      "56\n",
      "57\n",
      "58\n",
      "59\n",
      "60\n",
      "61\n",
      "62\n",
      "63\n",
      "64\n",
      "65\n",
      "66\n",
      "67\n",
      "68\n",
      "69\n",
      "70\n",
      "71\n",
      "72\n",
      "73\n",
      "74\n",
      "75\n",
      "76\n",
      "77\n",
      "78\n",
      "79\n",
      "80\n",
      "81\n",
      "82\n",
      "83\n",
      "84\n",
      "85\n",
      "86\n",
      "87\n",
      "88\n",
      "89\n",
      "90\n",
      "91\n",
      "92\n",
      "93\n",
      "94\n",
      "95\n",
      "96\n",
      "97\n",
      "98\n",
      "99\n"
     ]
    }
   ],
   "source": [
    "res1, time1 = accelarated_extragradient_division(0.75, 1/L, 0.01, 0.01, 0.01, X, y, np.ones(d), 100, b, t_loc2, 53)"
   ]
  },
  {
   "cell_type": "code",
   "execution_count": 432,
   "id": "4e3710c2",
   "metadata": {
    "scrolled": true
   },
   "outputs": [
    {
     "name": "stdout",
     "output_type": "stream",
     "text": [
      "0\n",
      "1\n",
      "2\n",
      "3\n",
      "4\n",
      "5\n",
      "6\n",
      "7\n",
      "8\n",
      "9\n",
      "10\n",
      "11\n",
      "12\n",
      "13\n",
      "14\n",
      "15\n",
      "16\n",
      "17\n",
      "18\n",
      "19\n",
      "20\n",
      "21\n",
      "22\n",
      "23\n",
      "24\n",
      "25\n",
      "26\n",
      "27\n",
      "28\n",
      "29\n",
      "30\n",
      "31\n",
      "32\n",
      "33\n",
      "34\n",
      "35\n",
      "36\n",
      "37\n",
      "38\n",
      "39\n",
      "40\n",
      "41\n",
      "42\n",
      "43\n",
      "44\n",
      "45\n",
      "46\n",
      "47\n",
      "48\n",
      "49\n",
      "50\n",
      "51\n",
      "52\n",
      "53\n",
      "54\n",
      "55\n",
      "56\n",
      "57\n",
      "58\n",
      "59\n",
      "60\n",
      "61\n",
      "62\n",
      "63\n",
      "64\n",
      "65\n",
      "66\n",
      "67\n",
      "68\n",
      "69\n",
      "70\n",
      "71\n",
      "72\n",
      "73\n",
      "74\n",
      "75\n",
      "76\n",
      "77\n",
      "78\n",
      "79\n",
      "80\n",
      "81\n",
      "82\n",
      "83\n",
      "84\n",
      "85\n",
      "86\n",
      "87\n",
      "88\n",
      "89\n",
      "90\n",
      "91\n",
      "92\n",
      "93\n",
      "94\n",
      "95\n",
      "96\n",
      "97\n",
      "98\n",
      "99\n"
     ]
    }
   ],
   "source": [
    "res2, time2 = accelarated_extragradient_division(0.75, 1/L, 0.01, 0.01, 0.01, X, y, np.ones(d), 100, b1, t_loc1, 53)"
   ]
  },
  {
   "cell_type": "code",
   "execution_count": 467,
   "id": "2a93c2e7",
   "metadata": {},
   "outputs": [
    {
     "name": "stdout",
     "output_type": "stream",
     "text": [
      "ускорили выполнение программы в 1.4 раза\n"
     ]
    }
   ],
   "source": [
    "print(\"ускорили выполнение программы в {:.1f} раза\".format(sum(time1)/sum(time2)))"
   ]
  },
  {
   "cell_type": "code",
   "execution_count": 18,
   "id": "90f0d8ae",
   "metadata": {},
   "outputs": [
    {
     "name": "stdout",
     "output_type": "stream",
     "text": [
      "-4\n",
      "-3\n",
      "-2\n",
      "-1\n",
      "0\n",
      "1\n",
      "2\n"
     ]
    }
   ],
   "source": [
    "acceleration_big = []\n",
    "for i in range (-4, 3):\n",
    "    b1 = generate_b1(t_loc, 10**(i + 8))\n",
    "    res1, time1 = accelarated_extragradient_division(0.75, 1/L, 0.01, 0.01, 0.01, X, y, np.ones(d), 50, b, t_loc, 53*(10**i))\n",
    "    res2, time2 = accelarated_extragradient_division(0.75, 1/L, 0.01, 0.01, 0.01, X, y, np.ones(d), 50, b1, t_loc1, 53*(10**i))\n",
    "    acceleration_big.append(sum(time1)/sum(time2))\n",
    "    print(i)"
   ]
  },
  {
   "cell_type": "code",
   "execution_count": null,
   "id": "3e1a4866",
   "metadata": {},
   "outputs": [],
   "source": []
  },
  {
   "cell_type": "code",
   "execution_count": null,
   "id": "b22e2b71",
   "metadata": {},
   "outputs": [],
   "source": []
  },
  {
   "cell_type": "markdown",
   "id": "54e6e0fc",
   "metadata": {},
   "source": [
    "### Для малых коммуникаций"
   ]
  },
  {
   "cell_type": "code",
   "execution_count": 67,
   "id": "af70cc7f",
   "metadata": {
    "scrolled": true
   },
   "outputs": [
    {
     "name": "stdout",
     "output_type": "stream",
     "text": [
      "0\n",
      "1\n",
      "2\n",
      "3\n",
      "4\n",
      "5\n",
      "6\n",
      "7\n",
      "8\n",
      "9\n",
      "10\n",
      "11\n",
      "12\n",
      "13\n",
      "14\n",
      "15\n",
      "16\n",
      "17\n",
      "18\n",
      "19\n",
      "20\n",
      "21\n",
      "22\n",
      "23\n",
      "24\n",
      "25\n",
      "26\n",
      "27\n",
      "28\n",
      "29\n",
      "30\n",
      "31\n",
      "32\n",
      "33\n",
      "34\n",
      "35\n",
      "36\n",
      "37\n",
      "38\n",
      "39\n",
      "40\n",
      "41\n",
      "42\n",
      "43\n",
      "44\n",
      "45\n",
      "46\n",
      "47\n",
      "48\n",
      "49\n"
     ]
    }
   ],
   "source": [
    "res3, time3 = accelarated_extragradient_division(0.75, 1/L, 0.01, 0.01, 0.01, X, y, np.ones(d), 50, b, t_loc2, 1e-9)"
   ]
  },
  {
   "cell_type": "code",
   "execution_count": 68,
   "id": "170f6ae6",
   "metadata": {
    "scrolled": true
   },
   "outputs": [
    {
     "name": "stdout",
     "output_type": "stream",
     "text": [
      "0\n",
      "1\n",
      "2\n",
      "3\n",
      "4\n",
      "5\n",
      "6\n",
      "7\n",
      "8\n",
      "9\n",
      "10\n",
      "11\n",
      "12\n",
      "13\n",
      "14\n",
      "15\n",
      "16\n",
      "17\n",
      "18\n",
      "19\n",
      "20\n",
      "21\n",
      "22\n",
      "23\n",
      "24\n",
      "25\n",
      "26\n",
      "27\n",
      "28\n",
      "29\n",
      "30\n",
      "31\n",
      "32\n",
      "33\n",
      "34\n",
      "35\n",
      "36\n",
      "37\n",
      "38\n",
      "39\n",
      "40\n",
      "41\n",
      "42\n",
      "43\n",
      "44\n",
      "45\n",
      "46\n",
      "47\n",
      "48\n",
      "49\n"
     ]
    }
   ],
   "source": [
    "res4, time4 = accelarated_extragradient_division(0.75, 1/L, 0.01, 0.01, 0.01, X, y, np.ones(d), 50, b2, t_loc2, 53)"
   ]
  },
  {
   "cell_type": "code",
   "execution_count": 69,
   "id": "8ef1e9e2",
   "metadata": {},
   "outputs": [
    {
     "name": "stdout",
     "output_type": "stream",
     "text": [
      "ускорили выполнение программы в 1.3 раза\n"
     ]
    }
   ],
   "source": [
    "print(\"ускорили выполнение программы в {:.1f} раза\".format(sum(time3)/sum(time4)))"
   ]
  },
  {
   "cell_type": "code",
   "execution_count": 62,
   "id": "1075de79",
   "metadata": {},
   "outputs": [
    {
     "ename": "KeyboardInterrupt",
     "evalue": "",
     "output_type": "error",
     "traceback": [
      "\u001b[0;31m---------------------------------------------------------------------------\u001b[0m",
      "\u001b[0;31mKeyboardInterrupt\u001b[0m                         Traceback (most recent call last)",
      "\u001b[0;32m/var/folders/2z/h4ypwr2j2f70t152_xqwp5w40000gn/T/ipykernel_68042/351711803.py\u001b[0m in \u001b[0;36m<module>\u001b[0;34m\u001b[0m\n\u001b[1;32m      1\u001b[0m \u001b[0macceleration_small\u001b[0m \u001b[0;34m=\u001b[0m \u001b[0;34m[\u001b[0m\u001b[0;34m]\u001b[0m\u001b[0;34m\u001b[0m\u001b[0;34m\u001b[0m\u001b[0m\n\u001b[1;32m      2\u001b[0m \u001b[0;32mfor\u001b[0m \u001b[0mi\u001b[0m \u001b[0;32min\u001b[0m \u001b[0mrange\u001b[0m \u001b[0;34m(\u001b[0m\u001b[0;34m-\u001b[0m\u001b[0;36m14\u001b[0m\u001b[0;34m,\u001b[0m \u001b[0;34m-\u001b[0m\u001b[0;36m3\u001b[0m\u001b[0;34m)\u001b[0m\u001b[0;34m:\u001b[0m\u001b[0;34m\u001b[0m\u001b[0;34m\u001b[0m\u001b[0m\n\u001b[0;32m----> 3\u001b[0;31m     \u001b[0mres1\u001b[0m\u001b[0;34m,\u001b[0m \u001b[0mtime1\u001b[0m \u001b[0;34m=\u001b[0m \u001b[0maccelarated_extragradient_division\u001b[0m\u001b[0;34m(\u001b[0m\u001b[0;36m0.75\u001b[0m\u001b[0;34m,\u001b[0m \u001b[0;36m1\u001b[0m\u001b[0;34m/\u001b[0m\u001b[0mL\u001b[0m\u001b[0;34m,\u001b[0m \u001b[0;36m0.01\u001b[0m\u001b[0;34m,\u001b[0m \u001b[0;36m0.01\u001b[0m\u001b[0;34m,\u001b[0m \u001b[0;36m0.01\u001b[0m\u001b[0;34m,\u001b[0m \u001b[0mX\u001b[0m\u001b[0;34m,\u001b[0m \u001b[0my\u001b[0m\u001b[0;34m,\u001b[0m \u001b[0mnp\u001b[0m\u001b[0;34m.\u001b[0m\u001b[0mones\u001b[0m\u001b[0;34m(\u001b[0m\u001b[0md\u001b[0m\u001b[0;34m)\u001b[0m\u001b[0;34m,\u001b[0m \u001b[0;36m50\u001b[0m\u001b[0;34m,\u001b[0m \u001b[0mb\u001b[0m\u001b[0;34m,\u001b[0m \u001b[0mt_loc\u001b[0m\u001b[0;34m,\u001b[0m \u001b[0;36m53\u001b[0m\u001b[0;34m*\u001b[0m\u001b[0;34m(\u001b[0m\u001b[0;36m10\u001b[0m\u001b[0;34m**\u001b[0m\u001b[0mi\u001b[0m\u001b[0;34m)\u001b[0m\u001b[0;34m)\u001b[0m\u001b[0;34m\u001b[0m\u001b[0;34m\u001b[0m\u001b[0m\n\u001b[0m\u001b[1;32m      4\u001b[0m     \u001b[0mres2\u001b[0m\u001b[0;34m,\u001b[0m \u001b[0mtime2\u001b[0m \u001b[0;34m=\u001b[0m \u001b[0maccelarated_extragradient_division\u001b[0m\u001b[0;34m(\u001b[0m\u001b[0;36m0.75\u001b[0m\u001b[0;34m,\u001b[0m \u001b[0;36m1\u001b[0m\u001b[0;34m/\u001b[0m\u001b[0mL\u001b[0m\u001b[0;34m,\u001b[0m \u001b[0;36m0.01\u001b[0m\u001b[0;34m,\u001b[0m \u001b[0;36m0.01\u001b[0m\u001b[0;34m,\u001b[0m \u001b[0;36m0.01\u001b[0m\u001b[0;34m,\u001b[0m \u001b[0mX\u001b[0m\u001b[0;34m,\u001b[0m \u001b[0my\u001b[0m\u001b[0;34m,\u001b[0m \u001b[0mnp\u001b[0m\u001b[0;34m.\u001b[0m\u001b[0mones\u001b[0m\u001b[0;34m(\u001b[0m\u001b[0md\u001b[0m\u001b[0;34m)\u001b[0m\u001b[0;34m,\u001b[0m \u001b[0;36m50\u001b[0m\u001b[0;34m,\u001b[0m \u001b[0mb2\u001b[0m\u001b[0;34m,\u001b[0m \u001b[0mt_loc\u001b[0m\u001b[0;34m,\u001b[0m \u001b[0;36m53\u001b[0m\u001b[0;34m*\u001b[0m\u001b[0;34m(\u001b[0m\u001b[0;36m10\u001b[0m\u001b[0;34m**\u001b[0m\u001b[0mi\u001b[0m\u001b[0;34m)\u001b[0m\u001b[0;34m)\u001b[0m\u001b[0;34m\u001b[0m\u001b[0;34m\u001b[0m\u001b[0m\n\u001b[1;32m      5\u001b[0m     \u001b[0macceleration_small\u001b[0m\u001b[0;34m.\u001b[0m\u001b[0mappend\u001b[0m\u001b[0;34m(\u001b[0m\u001b[0msum\u001b[0m\u001b[0;34m(\u001b[0m\u001b[0mtime1\u001b[0m\u001b[0;34m)\u001b[0m\u001b[0;34m/\u001b[0m\u001b[0msum\u001b[0m\u001b[0;34m(\u001b[0m\u001b[0mtime2\u001b[0m\u001b[0;34m)\u001b[0m\u001b[0;34m)\u001b[0m\u001b[0;34m\u001b[0m\u001b[0;34m\u001b[0m\u001b[0m\n",
      "\u001b[0;32m/var/folders/2z/h4ypwr2j2f70t152_xqwp5w40000gn/T/ipykernel_68042/2237057176.py\u001b[0m in \u001b[0;36maccelarated_extragradient_division\u001b[0;34m(tau, eta, theta, alpha, lamb, X, y, start, amount_of_iterations, b, t_loc, t_comm)\u001b[0m\n\u001b[1;32m     31\u001b[0m         \u001b[0mbegin_time\u001b[0m \u001b[0;34m=\u001b[0m \u001b[0mtime\u001b[0m\u001b[0;34m.\u001b[0m\u001b[0mtime\u001b[0m\u001b[0;34m(\u001b[0m\u001b[0;34m)\u001b[0m\u001b[0;34m\u001b[0m\u001b[0;34m\u001b[0m\u001b[0m\n\u001b[1;32m     32\u001b[0m         \u001b[0momega_gk\u001b[0m \u001b[0;34m=\u001b[0m \u001b[0mtau\u001b[0m\u001b[0;34m*\u001b[0m\u001b[0momega\u001b[0m\u001b[0;34m[\u001b[0m\u001b[0mi\u001b[0m\u001b[0;34m-\u001b[0m\u001b[0;36m1\u001b[0m\u001b[0;34m]\u001b[0m \u001b[0;34m+\u001b[0m \u001b[0;34m(\u001b[0m\u001b[0;36m1\u001b[0m \u001b[0;34m-\u001b[0m \u001b[0mtau\u001b[0m\u001b[0;34m)\u001b[0m\u001b[0;34m*\u001b[0m\u001b[0momega_f\u001b[0m\u001b[0;34m[\u001b[0m\u001b[0mi\u001b[0m\u001b[0;34m-\u001b[0m\u001b[0;36m1\u001b[0m\u001b[0;34m]\u001b[0m\u001b[0;34m\u001b[0m\u001b[0;34m\u001b[0m\u001b[0m\n\u001b[0;32m---> 33\u001b[0;31m         \u001b[0momega_f_next\u001b[0m \u001b[0;34m=\u001b[0m \u001b[0mOGM_G\u001b[0m\u001b[0;34m(\u001b[0m\u001b[0mX_max\u001b[0m\u001b[0;34m,\u001b[0m \u001b[0my_max\u001b[0m\u001b[0;34m,\u001b[0m \u001b[0mnp\u001b[0m\u001b[0;34m.\u001b[0m\u001b[0mones\u001b[0m\u001b[0;34m(\u001b[0m\u001b[0md\u001b[0m\u001b[0;34m)\u001b[0m\u001b[0;34m,\u001b[0m \u001b[0mL\u001b[0m\u001b[0;34m,\u001b[0m \u001b[0;36m2000\u001b[0m\u001b[0;34m)\u001b[0m\u001b[0;34m\u001b[0m\u001b[0;34m\u001b[0m\u001b[0m\n\u001b[0m\u001b[1;32m     34\u001b[0m \u001b[0;34m\u001b[0m\u001b[0m\n\u001b[1;32m     35\u001b[0m         \u001b[0mgrad_r\u001b[0m \u001b[0;34m=\u001b[0m \u001b[0mgradient_r\u001b[0m\u001b[0;34m(\u001b[0m\u001b[0mX\u001b[0m\u001b[0;34m,\u001b[0m \u001b[0my\u001b[0m\u001b[0;34m,\u001b[0m \u001b[0momega_f_next\u001b[0m\u001b[0;34m[\u001b[0m\u001b[0;36m0\u001b[0m\u001b[0;34m]\u001b[0m\u001b[0;34m,\u001b[0m \u001b[0mlamb\u001b[0m\u001b[0;34m)\u001b[0m\u001b[0;34m\u001b[0m\u001b[0;34m\u001b[0m\u001b[0m\n",
      "\u001b[0;32m/var/folders/2z/h4ypwr2j2f70t152_xqwp5w40000gn/T/ipykernel_68042/2000787526.py\u001b[0m in \u001b[0;36mOGM_G\u001b[0;34m(X, y, start, L, iterations)\u001b[0m\n\u001b[1;32m     16\u001b[0m     \u001b[0;32mfor\u001b[0m \u001b[0mi\u001b[0m \u001b[0;32min\u001b[0m \u001b[0mrange\u001b[0m\u001b[0;34m(\u001b[0m\u001b[0;36m1\u001b[0m\u001b[0;34m,\u001b[0m\u001b[0miterations\u001b[0m\u001b[0;34m-\u001b[0m\u001b[0;36m1\u001b[0m\u001b[0;34m)\u001b[0m\u001b[0;34m:\u001b[0m\u001b[0;34m\u001b[0m\u001b[0;34m\u001b[0m\u001b[0m\n\u001b[1;32m     17\u001b[0m         \u001b[0my_old\u001b[0m \u001b[0;34m=\u001b[0m \u001b[0my1\u001b[0m\u001b[0;34m\u001b[0m\u001b[0;34m\u001b[0m\u001b[0m\n\u001b[0;32m---> 18\u001b[0;31m         \u001b[0my1\u001b[0m \u001b[0;34m=\u001b[0m \u001b[0mx\u001b[0m \u001b[0;34m-\u001b[0m \u001b[0mgradient\u001b[0m\u001b[0;34m(\u001b[0m\u001b[0mX\u001b[0m\u001b[0;34m,\u001b[0m \u001b[0my\u001b[0m\u001b[0;34m,\u001b[0m \u001b[0mx\u001b[0m\u001b[0;34m)\u001b[0m\u001b[0;34m/\u001b[0m\u001b[0mL\u001b[0m\u001b[0;34m\u001b[0m\u001b[0;34m\u001b[0m\u001b[0m\n\u001b[0m\u001b[1;32m     19\u001b[0m         \u001b[0mx\u001b[0m\u001b[0;34m=\u001b[0m\u001b[0my1\u001b[0m\u001b[0;34m+\u001b[0m\u001b[0;34m(\u001b[0m\u001b[0mthetas\u001b[0m\u001b[0;34m[\u001b[0m\u001b[0mi\u001b[0m\u001b[0;34m]\u001b[0m\u001b[0;34m-\u001b[0m\u001b[0;36m1\u001b[0m\u001b[0;34m)\u001b[0m\u001b[0;34m*\u001b[0m\u001b[0;34m(\u001b[0m\u001b[0;36m2\u001b[0m\u001b[0;34m*\u001b[0m\u001b[0mthetas\u001b[0m\u001b[0;34m[\u001b[0m\u001b[0mi\u001b[0m\u001b[0;34m+\u001b[0m\u001b[0;36m1\u001b[0m\u001b[0;34m]\u001b[0m\u001b[0;34m-\u001b[0m\u001b[0;36m1\u001b[0m\u001b[0;34m)\u001b[0m\u001b[0;34m*\u001b[0m\u001b[0;34m(\u001b[0m\u001b[0my1\u001b[0m\u001b[0;34m-\u001b[0m\u001b[0my_old\u001b[0m\u001b[0;34m)\u001b[0m\u001b[0;34m/\u001b[0m\u001b[0mthetas\u001b[0m\u001b[0;34m[\u001b[0m\u001b[0mi\u001b[0m\u001b[0;34m]\u001b[0m\u001b[0;34m/\u001b[0m\u001b[0;34m(\u001b[0m\u001b[0;36m2\u001b[0m\u001b[0;34m*\u001b[0m\u001b[0mthetas\u001b[0m\u001b[0;34m[\u001b[0m\u001b[0mi\u001b[0m\u001b[0;34m]\u001b[0m\u001b[0;34m-\u001b[0m\u001b[0;36m1\u001b[0m\u001b[0;34m)\u001b[0m\u001b[0;34m+\u001b[0m\u001b[0;34m(\u001b[0m\u001b[0;36m2\u001b[0m\u001b[0;34m*\u001b[0m\u001b[0mthetas\u001b[0m\u001b[0;34m[\u001b[0m\u001b[0mi\u001b[0m\u001b[0;34m+\u001b[0m\u001b[0;36m1\u001b[0m\u001b[0;34m]\u001b[0m\u001b[0;34m-\u001b[0m\u001b[0;36m1\u001b[0m\u001b[0;34m)\u001b[0m\u001b[0;34m*\u001b[0m\u001b[0;34m(\u001b[0m\u001b[0my1\u001b[0m\u001b[0;34m-\u001b[0m\u001b[0mx\u001b[0m\u001b[0;34m)\u001b[0m\u001b[0;34m/\u001b[0m\u001b[0;34m(\u001b[0m\u001b[0;36m2\u001b[0m\u001b[0;34m*\u001b[0m\u001b[0mthetas\u001b[0m\u001b[0;34m[\u001b[0m\u001b[0mi\u001b[0m\u001b[0;34m]\u001b[0m\u001b[0;34m-\u001b[0m\u001b[0;36m1\u001b[0m\u001b[0;34m)\u001b[0m\u001b[0;34m\u001b[0m\u001b[0;34m\u001b[0m\u001b[0m\n\u001b[1;32m     20\u001b[0m         \u001b[0mgradients\u001b[0m\u001b[0;34m.\u001b[0m\u001b[0mappend\u001b[0m\u001b[0;34m(\u001b[0m\u001b[0mnp\u001b[0m\u001b[0;34m.\u001b[0m\u001b[0mlinalg\u001b[0m\u001b[0;34m.\u001b[0m\u001b[0mnorm\u001b[0m\u001b[0;34m(\u001b[0m\u001b[0mgradient\u001b[0m\u001b[0;34m(\u001b[0m\u001b[0mX\u001b[0m\u001b[0;34m,\u001b[0m \u001b[0my\u001b[0m\u001b[0;34m,\u001b[0m \u001b[0mx\u001b[0m\u001b[0;34m)\u001b[0m\u001b[0;34m)\u001b[0m\u001b[0;34m**\u001b[0m\u001b[0;36m2\u001b[0m\u001b[0;34m)\u001b[0m\u001b[0;34m\u001b[0m\u001b[0;34m\u001b[0m\u001b[0m\n",
      "\u001b[0;32m/var/folders/2z/h4ypwr2j2f70t152_xqwp5w40000gn/T/ipykernel_68042/275830606.py\u001b[0m in \u001b[0;36mgradient\u001b[0;34m(X, y, omega)\u001b[0m\n\u001b[1;32m      1\u001b[0m \u001b[0;32mdef\u001b[0m \u001b[0mgradient\u001b[0m\u001b[0;34m(\u001b[0m\u001b[0mX\u001b[0m\u001b[0;34m,\u001b[0m \u001b[0my\u001b[0m\u001b[0;34m,\u001b[0m \u001b[0momega\u001b[0m\u001b[0;34m)\u001b[0m\u001b[0;34m:\u001b[0m\u001b[0;34m\u001b[0m\u001b[0;34m\u001b[0m\u001b[0m\n\u001b[0;32m----> 2\u001b[0;31m     \u001b[0;32mreturn\u001b[0m \u001b[0;36m1\u001b[0m\u001b[0;34m/\u001b[0m\u001b[0mN\u001b[0m\u001b[0;34m*\u001b[0m\u001b[0mX\u001b[0m\u001b[0;34m.\u001b[0m\u001b[0mT\u001b[0m\u001b[0;34m.\u001b[0m\u001b[0mdot\u001b[0m\u001b[0;34m(\u001b[0m\u001b[0mX\u001b[0m\u001b[0;34m.\u001b[0m\u001b[0mdot\u001b[0m\u001b[0;34m(\u001b[0m\u001b[0momega\u001b[0m\u001b[0;34m)\u001b[0m \u001b[0;34m-\u001b[0m \u001b[0my\u001b[0m\u001b[0;34m)\u001b[0m\u001b[0;34m\u001b[0m\u001b[0;34m\u001b[0m\u001b[0m\n\u001b[0m",
      "\u001b[0;31mKeyboardInterrupt\u001b[0m: "
     ]
    }
   ],
   "source": [
    "acceleration_small = []\n",
    "for i in range (-14, -3):\n",
    "    res1, time1 = accelarated_extragradient_division(0.75, 1/L, 0.01, 0.01, 0.01, X, y, np.ones(d), 50, b, t_loc, 53*(10**i))\n",
    "    res2, time2 = accelarated_extragradient_division(0.75, 1/L, 0.01, 0.01, 0.01, X, y, np.ones(d), 50, b2, t_loc, 53*(10**i))\n",
    "    acceleration_small.append(sum(time1)/sum(time2))\n",
    "    print(i)"
   ]
  },
  {
   "cell_type": "markdown",
   "id": "21aa1b7e",
   "metadata": {},
   "source": [
    "## Общая оптимизация"
   ]
  },
  {
   "cell_type": "code",
   "execution_count": 29,
   "id": "1e85ff66",
   "metadata": {},
   "outputs": [],
   "source": [
    "from scipy.optimize import minimize_scalar\n",
    "from math import ceil, floor\n",
    "\n",
    "def minimum_finding(t_comm):\n",
    "    sum_t_loc = 1/(sum(1/t_loc2[i] for i in range(1, t_loc2.shape[0])))\n",
    "    b_1_0 = N*(sum_t_loc)/(sum_t_loc + t_loc2[0])\n",
    "    #0 < b_1 <= b_1_0\n",
    "\n",
    "    a1 = - alpha * sum_t_loc\n",
    "    b1 = alpha * (sum_t_loc * N + t_comm)\n",
    "    c1 = beta * t_loc2[0]\n",
    "\n",
    "    a2 = alpha * t_loc2[0]\n",
    "    b2 = alpha * (t_comm)\n",
    "    c2 = beta * t_loc2[0]\n",
    "    \n",
    "    def func1(x):\n",
    "        return a1*x**(3/4) + b1*x**(-1/4) + c1*x\n",
    "    def func2(x):\n",
    "        return a2*x**(3/4) + b2*x**(-1/4) + c2*x\n",
    "\n",
    "    res1 = minimize_scalar(func1, bounds=(1,floor(b_1_0)), method='bounded')\n",
    "    res2 = minimize_scalar(func2, bounds=(ceil(b_1_0),N), method='bounded')\n",
    "\n",
    "    #print(b_1_0)\n",
    "    \n",
    "    res11 = floor(res1.x)\n",
    "    res12 = ceil(res1.x)\n",
    "    res21 = floor(res2.x)\n",
    "    res22 = ceil(res2.x)\n",
    "    fres11 = func1(res11)\n",
    "    fres12 = func1(res12)\n",
    "    fres21 = func2(res21)\n",
    "    fres22 = func2(res22)\n",
    "\n",
    "    if (fres11 < fres12):\n",
    "        result1 = [res11, fres11]\n",
    "    else:\n",
    "        result1 = [res12, fres12]\n",
    "\n",
    "\n",
    "    if (fres21 < fres22):\n",
    "        result2 = [res21, fres21]\n",
    "    else:\n",
    "        result2 = [res22, fres22]\n",
    "    \n",
    "    if (result1[1] < result2[1]):\n",
    "        result = [result1[0], result1[1]]\n",
    "    else:\n",
    "        result = [result2[0], result2[1]]\n",
    "\n",
    "    return result[0]"
   ]
  },
  {
   "cell_type": "code",
   "execution_count": 30,
   "id": "8f95904b",
   "metadata": {},
   "outputs": [],
   "source": [
    "def generate_b_opt(t_loc2, comm):\n",
    "    b1 = np.array([])\n",
    "    b1 = np.append(b1, minimum_finding(comm))\n",
    "    last = N \n",
    "    for i in range (1, t_loc2.shape[0]):\n",
    "        last -= b1[-1]\n",
    "        S = (sum(1/t_loc2[k] for k in range(i, t_loc2.shape[0])))**(-1)\n",
    "        b1 = np.append(b1, round(last/t_loc2[i]*S))\n",
    "    return b1"
   ]
  },
  {
   "cell_type": "code",
   "execution_count": 70,
   "id": "f5772835",
   "metadata": {},
   "outputs": [
    {
     "name": "stdout",
     "output_type": "stream",
     "text": [
      "-14\n",
      "-13\n",
      "-12\n",
      "-11\n",
      "-10\n",
      "-9\n",
      "-8\n",
      "-7\n",
      "-6\n",
      "-5\n",
      "-4\n",
      "-3\n",
      "-2\n",
      "-1\n",
      "0\n",
      "1\n",
      "2\n"
     ]
    }
   ],
   "source": [
    "acceleration_opt = []\n",
    "for i in range (-14, 3):\n",
    "    b_opt = generate_b_opt(t_loc, 10**(i + 8))\n",
    "    res1, time1 = accelarated_extragradient_division(0.75, 1/L, 0.01, 0.01, 0.01, X, y, np.ones(d), 50, b, t_loc, 53*(10**i))\n",
    "    res2, time2 = accelarated_extragradient_division(0.75, 1/L, 0.01, 0.01, 0.01, X, y, np.ones(d), 50, b_opt, t_loc, 53*(10**i))\n",
    "    acceleration_opt.append(sum(time1)/sum(time2))\n",
    "    print(i)"
   ]
  },
  {
   "cell_type": "code",
   "execution_count": null,
   "id": "1e567c04",
   "metadata": {},
   "outputs": [],
   "source": []
  },
  {
   "cell_type": "code",
   "execution_count": null,
   "id": "58137ea8",
   "metadata": {},
   "outputs": [],
   "source": []
  },
  {
   "cell_type": "code",
   "execution_count": null,
   "id": "649a0421",
   "metadata": {},
   "outputs": [],
   "source": []
  },
  {
   "cell_type": "code",
   "execution_count": null,
   "id": "1d883bf0",
   "metadata": {},
   "outputs": [],
   "source": []
  },
  {
   "cell_type": "markdown",
   "id": "96073db3",
   "metadata": {},
   "source": [
    "# График"
   ]
  },
  {
   "cell_type": "code",
   "execution_count": 71,
   "id": "0d6cd354",
   "metadata": {},
   "outputs": [
    {
     "data": {
      "image/png": "[encoded data removed]",
      "text/plain": [
       "<Figure size 1080x1440 with 2 Axes>"
      ]
     },
     "metadata": {
      "needs_background": "light"
     },
     "output_type": "display_data"
    }
   ],
   "source": [
    "plt.figure(figsize=(15, 20))\n",
    "\n",
    "pylab.subplot (2, 1, 1)\n",
    "pylab.plot(np.arange(-6, 11, 1), acceleration_opt, label = 'optimal curve problem 1', linewidth = 3, color = 'navy')\n",
    "pylab.plot(np.arange(-6, 5, 1), acceleration_small, label = 'small communication problem 1', linewidth = 3, color = 'darkorange')\n",
    "pylab.plot(np.arange(4, 11, 1), acceleration_big, label = 'big communication problem 1', linewidth = 3, color = 'forestgreen')\n",
    "plt.legend(fontsize = 15)\n",
    "plt.xlabel(r\"$\\frac{t_{comm}}{t_1^{loc}}$\", fontsize = 25)\n",
    "plt.ylabel(r\"acceleration\", fontsize = 25)\n",
    "plt.title(\"Accelerations dependence from communication time\", fontsize = 30)\n",
    "plt.grid(color = 'k', linewidth = 0.9)\n",
    "\n",
    "\n",
    "pylab.subplot (2, 1, 2)\n",
    "pylab.plot(np.arange(-6, 11, 1), acceleration_problem2, label = 'formula curve problem 2', linewidth = 3, color = 'darkorange')\n",
    "pylab.plot(np.arange(-6, 11, 1), acceleration_opt_problem2, label = 'optimal curve problem 2', linewidth = 3, color = 'navy')\n",
    "plt.legend(fontsize = 15)\n",
    "plt.xlabel(r\"$\\frac{t_{comm}}{t_1^{loc}}$\", fontsize = 25)\n",
    "plt.ylabel(r\"acceleration\", fontsize = 25)\n",
    "plt.title(\"Accelerations dependence from communication time\", fontsize = 30)\n",
    "plt.grid(color = 'k', linewidth = 0.9)"
   ]
  },
  {
   "cell_type": "code",
   "execution_count": null,
   "id": "961205ef",
   "metadata": {},
   "outputs": [],
   "source": []
  },
  {
   "cell_type": "markdown",
   "id": "c4e6d482",
   "metadata": {},
   "source": [
    "### Для общего случая с $t_{comm} = 53$"
   ]
  },
  {
   "cell_type": "code",
   "execution_count": 12,
   "id": "1f2b6413",
   "metadata": {},
   "outputs": [],
   "source": [
    "def F(x, aa, bb, cc):\n",
    "    return (2*aa * x**0.5 - 2*bb * x**(-0.5) + cc * x)\n",
    "\n",
    "t_comm_w = 53*1e-1\n",
    "b_1_0 = N/21\n",
    "#0 < b_1 <= b_1_0\n",
    "sum_t_loc2 = 1/(sum(1/t_loc2[i] for i in range(1, t_loc2.shape[0])))\n",
    "a = - 0.5 * alpha * (N * sum_t_loc2 + t_comm_w)\n",
    "b = - 0.5 * alpha * sum_t_loc2\n",
    "c = beta * t_loc2[0]\n",
    "root = (2*a**6 + 3*math.sqrt(3)*math.sqrt(4*a**3*b**3*c**6 + 27*b**4*c**8)+18*a**3*b*c**2+27*b**2*c**4)**(1/3)\n",
    "xxx = a**2 / (3 * c**2) + (root)/(3*2**(1/3)*c**2) - (2**(0.33)*(-a**4-6*a*b*c**2)) / (3*c**2*root)\n",
    "batch = list([0.0, 0.0, 0.0, 0.0, 0.0, 0.0])\n",
    "if (b_1_0 < xxx):\n",
    "    batch[0] = b_1_0\n",
    "else:\n",
    "    batch[0] = xxx\n",
    "batch[1] = F(batch[0], a, b, c)\n",
    "    \n",
    "# b_1_0 < b_1 <= N \n",
    "a = 0.5 * alpha * t_loc2[0]\n",
    "b = -0.5 * alpha * t_comm_w\n",
    "c = beta * t_loc2[0]\n",
    "if (N >=xxx):\n",
    "    batch[2] = xxx\n",
    "else:\n",
    "    batch[2] = N\n",
    "batch[3] = F(batch[2], a, b, c)\n",
    "if (batch[1] < batch[3]):\n",
    "    batch[4] = batch[1]\n",
    "    batch[5] = batch[0]\n",
    "else:\n",
    "    batch[4] = batch[3]\n",
    "    batch[5] = batch[2]\n",
    "\n",
    "b1w = batch[5]"
   ]
  },
  {
   "cell_type": "code",
   "execution_count": 15,
   "id": "fb742208",
   "metadata": {},
   "outputs": [
    {
     "name": "stdout",
     "output_type": "stream",
     "text": [
      "[5.000e+00 4.216e+03 3.514e+03 3.514e+03 4.216e+03 7.027e+03 5.270e+03\n",
      " 4.216e+03 3.514e+03 7.027e+03 4.216e+03 3.514e+03 3.514e+03 7.027e+03\n",
      " 7.027e+03 3.514e+03 3.514e+03 3.514e+03 7.027e+03 7.027e+03 5.270e+03]\n"
     ]
    }
   ],
   "source": [
    "def generate_bw(t_loc2):\n",
    "    b1 = np.array([])\n",
    "    S = (sum(1/t_loc2[i] for i in range(1, t_loc2.shape[0])))**(-1)\n",
    "    b1 = np.append(b1, round(b1w))\n",
    "    last = N \n",
    "    for i in range (1, t_loc2.shape[0]):\n",
    "        last -= b1[-1]\n",
    "        S = (sum(1/t_loc2[k] for k in range(i, t_loc2.shape[0])))**(-1)\n",
    "        b1 = np.append(b1, round(last/t_loc2[i]*S))\n",
    "    return b1\n",
    "bw = generate_bw(t_loc2)\n",
    "print(bw)"
   ]
  },
  {
   "cell_type": "code",
   "execution_count": 95,
   "id": "c53a30ba",
   "metadata": {
    "scrolled": true
   },
   "outputs": [
    {
     "name": "stdout",
     "output_type": "stream",
     "text": [
      "0\n",
      "1\n",
      "2\n",
      "3\n",
      "4\n",
      "5\n",
      "6\n",
      "7\n",
      "8\n",
      "9\n"
     ]
    }
   ],
   "source": [
    "res5, time5 = accelarated_extragradient_division(0.75, 1/L, 0.01, 0.01, 0.01, X, y, np.ones(d), 10, bw, t_loc2, t_comm_w)"
   ]
  },
  {
   "cell_type": "code",
   "execution_count": 96,
   "id": "1451a66d",
   "metadata": {
    "scrolled": true
   },
   "outputs": [
    {
     "name": "stdout",
     "output_type": "stream",
     "text": [
      "0\n",
      "1\n",
      "2\n",
      "3\n",
      "4\n",
      "5\n",
      "6\n",
      "7\n",
      "8\n",
      "9\n"
     ]
    }
   ],
   "source": [
    "b = generate_b(t_loc)\n",
    "res6, time6 = accelarated_extragradient_division(0.75, 1/L, 0.01, 0.01, 0.01, X, y, np.ones(d), 10, b, t_loc2, t_comm_w)"
   ]
  },
  {
   "cell_type": "code",
   "execution_count": 97,
   "id": "74687a32",
   "metadata": {},
   "outputs": [
    {
     "name": "stdout",
     "output_type": "stream",
     "text": [
      "ускорили выполнение программы в 1.8 раза\n"
     ]
    }
   ],
   "source": [
    "print(\"ускорили выполнение программы в {:.1f} раза\".format(sum(time6)/sum(time5)))"
   ]
  },
  {
   "cell_type": "markdown",
   "id": "8b89e86f",
   "metadata": {},
   "source": [
    "### Для общего случая с $t_{comm} = 10^{-9}$"
   ]
  },
  {
   "cell_type": "code",
   "execution_count": 28,
   "id": "30d51f0c",
   "metadata": {},
   "outputs": [],
   "source": [
    "def F(x, aa, bb, cc):\n",
    "    return (2*aa * x**0.5 - 2* bb * x**(-0.5) + cc * x)\n",
    "\n",
    "t_comm_w = 1e-9\n",
    "b_1_0 = N/21\n",
    "#0 < b_1 <= b_1_0\n",
    "sum_t_loc2 = 1/(sum(1/t_loc2[i] for i in range(1, t_loc2.shape[0])))\n",
    "b = - 0.5 * alpha * (N * sum_t_loc2 + t_comm_w)\n",
    "a = - 0.5 * alpha * sum_t_loc2\n",
    "c = beta * t_loc2[0]\n",
    "root = (2*a**6 + 3*math.sqrt(3)*math.sqrt(4*a**3*b**3*c**6 + 27*b**4*c**8)+18*a**3*b*c**2+27*b**2*c**4)**(1/3)\n",
    "xxx = a**2 / (3 * c**2) + (root)/(3*2**(1/3)*c**2) - (2**(0.33)*(-a**4-6*a*b*c**2)) / (3*c**2*root)\n",
    "batch = list([0.0, 0.0, 0.0, 0.0, 0.0, 0.0])\n",
    "if (b_1_0 < xxx):\n",
    "    batch[0] = b_1_0\n",
    "else:\n",
    "    batch[0] = xxx\n",
    "batch[1] = F(batch[0], a, b, c)\n",
    "    \n",
    "# b_1_0 < b_1 <= N \n",
    "a = 0.5 * alpha * t_loc2[0]\n",
    "b = -0.5 * alpha * t_comm_w\n",
    "c = beta * t_loc2[0]\n",
    "if (N >=xxx):\n",
    "    batch[2] = xxx\n",
    "else:\n",
    "    batch[2] = N\n",
    "batch[3] = F(batch[2], a, b, c)\n",
    "if (batch[1] < batch[3]):\n",
    "    batch[4] = batch[1]\n",
    "    batch[5] = batch[0]\n",
    "else:\n",
    "    batch[4] = batch[3]\n",
    "    batch[5] = batch[2]\n",
    "\n",
    "b1w = batch[5]"
   ]
  },
  {
   "cell_type": "code",
   "execution_count": 29,
   "id": "50976d11",
   "metadata": {},
   "outputs": [
    {
     "name": "stdout",
     "output_type": "stream",
     "text": [
      "[5.000e+00 5.087e+03 4.070e+03 4.070e+03 6.783e+03 4.070e+03 3.392e+03\n",
      " 4.070e+03 6.783e+03 3.392e+03 3.392e+03 3.392e+03 5.087e+03 5.087e+03\n",
      " 3.392e+03 5.087e+03 6.783e+03 5.087e+03 5.087e+03 6.784e+03 6.783e+03]\n"
     ]
    }
   ],
   "source": [
    "def generate_bw(t_loc2):\n",
    "    b1 = np.array([])\n",
    "    S = (sum(1/t_loc2[i] for i in range(1, t_loc2.shape[0])))**(-1)\n",
    "    b1 = np.append(b1, round(b1w))\n",
    "    last = N \n",
    "    for i in range (1, t_loc2.shape[0]):\n",
    "        last -= b1[-1]\n",
    "        S = (sum(1/t_loc2[k] for k in range(i, t_loc2.shape[0])))**(-1)\n",
    "        b1 = np.append(b1, round(last/t_loc2[i]*S))\n",
    "    return b1\n",
    "bw = generate_bw(t_loc2)\n",
    "print(bw)"
   ]
  },
  {
   "cell_type": "code",
   "execution_count": 30,
   "id": "e00535f7",
   "metadata": {
    "scrolled": true
   },
   "outputs": [
    {
     "name": "stdout",
     "output_type": "stream",
     "text": [
      "0\n",
      "1\n",
      "2\n",
      "3\n",
      "4\n",
      "5\n",
      "6\n",
      "7\n",
      "8\n",
      "9\n",
      "10\n",
      "11\n",
      "12\n",
      "13\n",
      "14\n",
      "15\n",
      "16\n",
      "17\n",
      "18\n",
      "19\n",
      "20\n",
      "21\n",
      "22\n",
      "23\n",
      "24\n",
      "25\n",
      "26\n",
      "27\n",
      "28\n",
      "29\n",
      "30\n",
      "31\n",
      "32\n",
      "33\n",
      "34\n",
      "35\n",
      "36\n",
      "37\n",
      "38\n",
      "39\n",
      "40\n",
      "41\n",
      "42\n",
      "43\n",
      "44\n",
      "45\n",
      "46\n",
      "47\n",
      "48\n",
      "49\n"
     ]
    }
   ],
   "source": [
    "res7, time7 = accelarated_extragradient_division(0.75, 1/L, 0.01, 0.01, 0.01, X, y, np.ones(d), 50, bw, t_loc2, t_comm_w)"
   ]
  },
  {
   "cell_type": "code",
   "execution_count": 31,
   "id": "c872d3ec",
   "metadata": {
    "scrolled": true
   },
   "outputs": [
    {
     "name": "stdout",
     "output_type": "stream",
     "text": [
      "0\n",
      "1\n",
      "2\n",
      "3\n",
      "4\n",
      "5\n",
      "6\n",
      "7\n",
      "8\n",
      "9\n",
      "10\n",
      "11\n",
      "12\n",
      "13\n",
      "14\n",
      "15\n",
      "16\n",
      "17\n",
      "18\n",
      "19\n",
      "20\n",
      "21\n",
      "22\n",
      "23\n",
      "24\n",
      "25\n",
      "26\n",
      "27\n",
      "28\n",
      "29\n",
      "30\n",
      "31\n",
      "32\n",
      "33\n",
      "34\n",
      "35\n",
      "36\n",
      "37\n",
      "38\n",
      "39\n",
      "40\n",
      "41\n",
      "42\n",
      "43\n",
      "44\n",
      "45\n",
      "46\n",
      "47\n",
      "48\n",
      "49\n"
     ]
    }
   ],
   "source": [
    "b = generate_b(t_loc)\n",
    "res8, time8 = accelarated_extragradient_division(0.75, 1/L, 0.01, 0.01, 0.01, X, y, np.ones(d), 50, b, t_loc2, t_comm_w)"
   ]
  },
  {
   "cell_type": "code",
   "execution_count": 32,
   "id": "f80154bd",
   "metadata": {},
   "outputs": [
    {
     "name": "stdout",
     "output_type": "stream",
     "text": [
      "ускорили выполнение программы в 7.3 раза\n"
     ]
    }
   ],
   "source": [
    "print(\"ускорили выполнение программы в {:.1f} раза\".format(sum(time8)/sum(time7)))"
   ]
  },
  {
   "cell_type": "code",
   "execution_count": 63,
   "id": "52168314",
   "metadata": {},
   "outputs": [
    {
     "name": "stdout",
     "output_type": "stream",
     "text": [
      "4.674214996722468\n"
     ]
    },
    {
     "ename": "KeyboardInterrupt",
     "evalue": "",
     "output_type": "error",
     "traceback": [
      "\u001b[0;31m---------------------------------------------------------------------------\u001b[0m",
      "\u001b[0;31mKeyboardInterrupt\u001b[0m                         Traceback (most recent call last)",
      "\u001b[0;32m/var/folders/2z/h4ypwr2j2f70t152_xqwp5w40000gn/T/ipykernel_68042/1074069322.py\u001b[0m in \u001b[0;36m<module>\u001b[0;34m\u001b[0m\n\u001b[1;32m     39\u001b[0m     \u001b[0mprint\u001b[0m\u001b[0;34m(\u001b[0m\u001b[0mb1w\u001b[0m\u001b[0;34m)\u001b[0m\u001b[0;34m\u001b[0m\u001b[0;34m\u001b[0m\u001b[0m\n\u001b[1;32m     40\u001b[0m \u001b[0;34m\u001b[0m\u001b[0m\n\u001b[0;32m---> 41\u001b[0;31m     \u001b[0mres8\u001b[0m\u001b[0;34m,\u001b[0m \u001b[0mtime8\u001b[0m \u001b[0;34m=\u001b[0m \u001b[0maccelarated_extragradient_division\u001b[0m\u001b[0;34m(\u001b[0m\u001b[0;36m0.75\u001b[0m\u001b[0;34m,\u001b[0m \u001b[0;36m1\u001b[0m\u001b[0;34m/\u001b[0m\u001b[0mL\u001b[0m\u001b[0;34m,\u001b[0m \u001b[0;36m0.01\u001b[0m\u001b[0;34m,\u001b[0m \u001b[0;36m0.01\u001b[0m\u001b[0;34m,\u001b[0m \u001b[0;36m0.01\u001b[0m\u001b[0;34m,\u001b[0m \u001b[0mX\u001b[0m\u001b[0;34m,\u001b[0m \u001b[0my\u001b[0m\u001b[0;34m,\u001b[0m \u001b[0mnp\u001b[0m\u001b[0;34m.\u001b[0m\u001b[0mones\u001b[0m\u001b[0;34m(\u001b[0m\u001b[0md\u001b[0m\u001b[0;34m)\u001b[0m\u001b[0;34m,\u001b[0m \u001b[0;36m25\u001b[0m\u001b[0;34m,\u001b[0m \u001b[0mb\u001b[0m\u001b[0;34m,\u001b[0m \u001b[0mt_loc\u001b[0m\u001b[0;34m,\u001b[0m \u001b[0mt_comm_w\u001b[0m\u001b[0;34m)\u001b[0m\u001b[0;34m\u001b[0m\u001b[0;34m\u001b[0m\u001b[0m\n\u001b[0m\u001b[1;32m     42\u001b[0m     \u001b[0mres7\u001b[0m\u001b[0;34m,\u001b[0m \u001b[0mtime7\u001b[0m \u001b[0;34m=\u001b[0m \u001b[0maccelarated_extragradient_division\u001b[0m\u001b[0;34m(\u001b[0m\u001b[0;36m0.75\u001b[0m\u001b[0;34m,\u001b[0m \u001b[0;36m1\u001b[0m\u001b[0;34m/\u001b[0m\u001b[0mL\u001b[0m\u001b[0;34m,\u001b[0m \u001b[0;36m0.01\u001b[0m\u001b[0;34m,\u001b[0m \u001b[0;36m0.01\u001b[0m\u001b[0;34m,\u001b[0m \u001b[0;36m0.01\u001b[0m\u001b[0;34m,\u001b[0m \u001b[0mX\u001b[0m\u001b[0;34m,\u001b[0m \u001b[0my\u001b[0m\u001b[0;34m,\u001b[0m \u001b[0mnp\u001b[0m\u001b[0;34m.\u001b[0m\u001b[0mones\u001b[0m\u001b[0;34m(\u001b[0m\u001b[0md\u001b[0m\u001b[0;34m)\u001b[0m\u001b[0;34m,\u001b[0m \u001b[0;36m25\u001b[0m\u001b[0;34m,\u001b[0m \u001b[0mbw\u001b[0m\u001b[0;34m,\u001b[0m \u001b[0mt_loc\u001b[0m\u001b[0;34m,\u001b[0m \u001b[0mt_comm_w\u001b[0m\u001b[0;34m)\u001b[0m\u001b[0;34m\u001b[0m\u001b[0;34m\u001b[0m\u001b[0m\n\u001b[1;32m     43\u001b[0m     \u001b[0;31m#res9, time9 = accelarated_extragradient_division(0.75, 1/L, 0.01, 0.01, 0.01, X, y, np.ones(d), 25, bw, t_loc, t_comm_w)\u001b[0m\u001b[0;34m\u001b[0m\u001b[0;34m\u001b[0m\u001b[0;34m\u001b[0m\u001b[0m\n",
      "\u001b[0;32m/var/folders/2z/h4ypwr2j2f70t152_xqwp5w40000gn/T/ipykernel_68042/2237057176.py\u001b[0m in \u001b[0;36maccelarated_extragradient_division\u001b[0;34m(tau, eta, theta, alpha, lamb, X, y, start, amount_of_iterations, b, t_loc, t_comm)\u001b[0m\n\u001b[1;32m     31\u001b[0m         \u001b[0mbegin_time\u001b[0m \u001b[0;34m=\u001b[0m \u001b[0mtime\u001b[0m\u001b[0;34m.\u001b[0m\u001b[0mtime\u001b[0m\u001b[0;34m(\u001b[0m\u001b[0;34m)\u001b[0m\u001b[0;34m\u001b[0m\u001b[0;34m\u001b[0m\u001b[0m\n\u001b[1;32m     32\u001b[0m         \u001b[0momega_gk\u001b[0m \u001b[0;34m=\u001b[0m \u001b[0mtau\u001b[0m\u001b[0;34m*\u001b[0m\u001b[0momega\u001b[0m\u001b[0;34m[\u001b[0m\u001b[0mi\u001b[0m\u001b[0;34m-\u001b[0m\u001b[0;36m1\u001b[0m\u001b[0;34m]\u001b[0m \u001b[0;34m+\u001b[0m \u001b[0;34m(\u001b[0m\u001b[0;36m1\u001b[0m \u001b[0;34m-\u001b[0m \u001b[0mtau\u001b[0m\u001b[0;34m)\u001b[0m\u001b[0;34m*\u001b[0m\u001b[0momega_f\u001b[0m\u001b[0;34m[\u001b[0m\u001b[0mi\u001b[0m\u001b[0;34m-\u001b[0m\u001b[0;36m1\u001b[0m\u001b[0;34m]\u001b[0m\u001b[0;34m\u001b[0m\u001b[0;34m\u001b[0m\u001b[0m\n\u001b[0;32m---> 33\u001b[0;31m         \u001b[0momega_f_next\u001b[0m \u001b[0;34m=\u001b[0m \u001b[0mOGM_G\u001b[0m\u001b[0;34m(\u001b[0m\u001b[0mX_max\u001b[0m\u001b[0;34m,\u001b[0m \u001b[0my_max\u001b[0m\u001b[0;34m,\u001b[0m \u001b[0mnp\u001b[0m\u001b[0;34m.\u001b[0m\u001b[0mones\u001b[0m\u001b[0;34m(\u001b[0m\u001b[0md\u001b[0m\u001b[0;34m)\u001b[0m\u001b[0;34m,\u001b[0m \u001b[0mL\u001b[0m\u001b[0;34m,\u001b[0m \u001b[0;36m2000\u001b[0m\u001b[0;34m)\u001b[0m\u001b[0;34m\u001b[0m\u001b[0;34m\u001b[0m\u001b[0m\n\u001b[0m\u001b[1;32m     34\u001b[0m \u001b[0;34m\u001b[0m\u001b[0m\n\u001b[1;32m     35\u001b[0m         \u001b[0mgrad_r\u001b[0m \u001b[0;34m=\u001b[0m \u001b[0mgradient_r\u001b[0m\u001b[0;34m(\u001b[0m\u001b[0mX\u001b[0m\u001b[0;34m,\u001b[0m \u001b[0my\u001b[0m\u001b[0;34m,\u001b[0m \u001b[0momega_f_next\u001b[0m\u001b[0;34m[\u001b[0m\u001b[0;36m0\u001b[0m\u001b[0;34m]\u001b[0m\u001b[0;34m,\u001b[0m \u001b[0mlamb\u001b[0m\u001b[0;34m)\u001b[0m\u001b[0;34m\u001b[0m\u001b[0;34m\u001b[0m\u001b[0m\n",
      "\u001b[0;32m/var/folders/2z/h4ypwr2j2f70t152_xqwp5w40000gn/T/ipykernel_68042/2000787526.py\u001b[0m in \u001b[0;36mOGM_G\u001b[0;34m(X, y, start, L, iterations)\u001b[0m\n\u001b[1;32m     16\u001b[0m     \u001b[0;32mfor\u001b[0m \u001b[0mi\u001b[0m \u001b[0;32min\u001b[0m \u001b[0mrange\u001b[0m\u001b[0;34m(\u001b[0m\u001b[0;36m1\u001b[0m\u001b[0;34m,\u001b[0m\u001b[0miterations\u001b[0m\u001b[0;34m-\u001b[0m\u001b[0;36m1\u001b[0m\u001b[0;34m)\u001b[0m\u001b[0;34m:\u001b[0m\u001b[0;34m\u001b[0m\u001b[0;34m\u001b[0m\u001b[0m\n\u001b[1;32m     17\u001b[0m         \u001b[0my_old\u001b[0m \u001b[0;34m=\u001b[0m \u001b[0my1\u001b[0m\u001b[0;34m\u001b[0m\u001b[0;34m\u001b[0m\u001b[0m\n\u001b[0;32m---> 18\u001b[0;31m         \u001b[0my1\u001b[0m \u001b[0;34m=\u001b[0m \u001b[0mx\u001b[0m \u001b[0;34m-\u001b[0m \u001b[0mgradient\u001b[0m\u001b[0;34m(\u001b[0m\u001b[0mX\u001b[0m\u001b[0;34m,\u001b[0m \u001b[0my\u001b[0m\u001b[0;34m,\u001b[0m \u001b[0mx\u001b[0m\u001b[0;34m)\u001b[0m\u001b[0;34m/\u001b[0m\u001b[0mL\u001b[0m\u001b[0;34m\u001b[0m\u001b[0;34m\u001b[0m\u001b[0m\n\u001b[0m\u001b[1;32m     19\u001b[0m         \u001b[0mx\u001b[0m\u001b[0;34m=\u001b[0m\u001b[0my1\u001b[0m\u001b[0;34m+\u001b[0m\u001b[0;34m(\u001b[0m\u001b[0mthetas\u001b[0m\u001b[0;34m[\u001b[0m\u001b[0mi\u001b[0m\u001b[0;34m]\u001b[0m\u001b[0;34m-\u001b[0m\u001b[0;36m1\u001b[0m\u001b[0;34m)\u001b[0m\u001b[0;34m*\u001b[0m\u001b[0;34m(\u001b[0m\u001b[0;36m2\u001b[0m\u001b[0;34m*\u001b[0m\u001b[0mthetas\u001b[0m\u001b[0;34m[\u001b[0m\u001b[0mi\u001b[0m\u001b[0;34m+\u001b[0m\u001b[0;36m1\u001b[0m\u001b[0;34m]\u001b[0m\u001b[0;34m-\u001b[0m\u001b[0;36m1\u001b[0m\u001b[0;34m)\u001b[0m\u001b[0;34m*\u001b[0m\u001b[0;34m(\u001b[0m\u001b[0my1\u001b[0m\u001b[0;34m-\u001b[0m\u001b[0my_old\u001b[0m\u001b[0;34m)\u001b[0m\u001b[0;34m/\u001b[0m\u001b[0mthetas\u001b[0m\u001b[0;34m[\u001b[0m\u001b[0mi\u001b[0m\u001b[0;34m]\u001b[0m\u001b[0;34m/\u001b[0m\u001b[0;34m(\u001b[0m\u001b[0;36m2\u001b[0m\u001b[0;34m*\u001b[0m\u001b[0mthetas\u001b[0m\u001b[0;34m[\u001b[0m\u001b[0mi\u001b[0m\u001b[0;34m]\u001b[0m\u001b[0;34m-\u001b[0m\u001b[0;36m1\u001b[0m\u001b[0;34m)\u001b[0m\u001b[0;34m+\u001b[0m\u001b[0;34m(\u001b[0m\u001b[0;36m2\u001b[0m\u001b[0;34m*\u001b[0m\u001b[0mthetas\u001b[0m\u001b[0;34m[\u001b[0m\u001b[0mi\u001b[0m\u001b[0;34m+\u001b[0m\u001b[0;36m1\u001b[0m\u001b[0;34m]\u001b[0m\u001b[0;34m-\u001b[0m\u001b[0;36m1\u001b[0m\u001b[0;34m)\u001b[0m\u001b[0;34m*\u001b[0m\u001b[0;34m(\u001b[0m\u001b[0my1\u001b[0m\u001b[0;34m-\u001b[0m\u001b[0mx\u001b[0m\u001b[0;34m)\u001b[0m\u001b[0;34m/\u001b[0m\u001b[0;34m(\u001b[0m\u001b[0;36m2\u001b[0m\u001b[0;34m*\u001b[0m\u001b[0mthetas\u001b[0m\u001b[0;34m[\u001b[0m\u001b[0mi\u001b[0m\u001b[0;34m]\u001b[0m\u001b[0;34m-\u001b[0m\u001b[0;36m1\u001b[0m\u001b[0;34m)\u001b[0m\u001b[0;34m\u001b[0m\u001b[0;34m\u001b[0m\u001b[0m\n\u001b[1;32m     20\u001b[0m         \u001b[0mgradients\u001b[0m\u001b[0;34m.\u001b[0m\u001b[0mappend\u001b[0m\u001b[0;34m(\u001b[0m\u001b[0mnp\u001b[0m\u001b[0;34m.\u001b[0m\u001b[0mlinalg\u001b[0m\u001b[0;34m.\u001b[0m\u001b[0mnorm\u001b[0m\u001b[0;34m(\u001b[0m\u001b[0mgradient\u001b[0m\u001b[0;34m(\u001b[0m\u001b[0mX\u001b[0m\u001b[0;34m,\u001b[0m \u001b[0my\u001b[0m\u001b[0;34m,\u001b[0m \u001b[0mx\u001b[0m\u001b[0;34m)\u001b[0m\u001b[0;34m)\u001b[0m\u001b[0;34m**\u001b[0m\u001b[0;36m2\u001b[0m\u001b[0;34m)\u001b[0m\u001b[0;34m\u001b[0m\u001b[0;34m\u001b[0m\u001b[0m\n",
      "\u001b[0;32m/var/folders/2z/h4ypwr2j2f70t152_xqwp5w40000gn/T/ipykernel_68042/275830606.py\u001b[0m in \u001b[0;36mgradient\u001b[0;34m(X, y, omega)\u001b[0m\n\u001b[1;32m      1\u001b[0m \u001b[0;32mdef\u001b[0m \u001b[0mgradient\u001b[0m\u001b[0;34m(\u001b[0m\u001b[0mX\u001b[0m\u001b[0;34m,\u001b[0m \u001b[0my\u001b[0m\u001b[0;34m,\u001b[0m \u001b[0momega\u001b[0m\u001b[0;34m)\u001b[0m\u001b[0;34m:\u001b[0m\u001b[0;34m\u001b[0m\u001b[0;34m\u001b[0m\u001b[0m\n\u001b[0;32m----> 2\u001b[0;31m     \u001b[0;32mreturn\u001b[0m \u001b[0;36m1\u001b[0m\u001b[0;34m/\u001b[0m\u001b[0mN\u001b[0m\u001b[0;34m*\u001b[0m\u001b[0mX\u001b[0m\u001b[0;34m.\u001b[0m\u001b[0mT\u001b[0m\u001b[0;34m.\u001b[0m\u001b[0mdot\u001b[0m\u001b[0;34m(\u001b[0m\u001b[0mX\u001b[0m\u001b[0;34m.\u001b[0m\u001b[0mdot\u001b[0m\u001b[0;34m(\u001b[0m\u001b[0momega\u001b[0m\u001b[0;34m)\u001b[0m \u001b[0;34m-\u001b[0m \u001b[0my\u001b[0m\u001b[0;34m)\u001b[0m\u001b[0;34m\u001b[0m\u001b[0;34m\u001b[0m\u001b[0m\n\u001b[0m",
      "\u001b[0;31mKeyboardInterrupt\u001b[0m: "
     ]
    }
   ],
   "source": [
    "acceleration_problem2 = []\n",
    "for i in range (-14, 3):\n",
    "    t_comm_w = 53*10**i\n",
    "    b_1_0 = N/5\n",
    "    #0 < b_1 <= b_1_0\n",
    "    sum_t_loc2 = 1/(sum(1/t_loc2[i] for i in range(1, t_loc2.shape[0])))\n",
    "    bb = - 0.5 * alpha * (N * sum_t_loc2 + t_comm_w)\n",
    "    a = - 0.5 * alpha * sum_t_loc2\n",
    "    c = beta * t_loc2[0]\n",
    "    root = (2*a**6 + 3*math.sqrt(3)*math.sqrt(4*a**3*bb**3*c**6 + 27*bb**4*c**8)+18*a**3*bb*c**2+27*bb**2*c**4)**(1/3)\n",
    "    xxx = a**2 / (3 * c**2) + (root)/(3*2**(1/3)*c**2) - (2**(1/3)*(-a**4-6*a*bb*c**2)) / (3*c**2*root)\n",
    "    batch = list([0.0, 0.0, 0.0, 0.0, 0.0, 0.0])\n",
    "    if (b_1_0 < xxx):\n",
    "        batch[0] = b_1_0\n",
    "    else:\n",
    "        batch[0] = xxx\n",
    "    batch[1] = F(batch[0], a, bb, c)\n",
    "\n",
    "    # b_1_0 < b_1 <= N \n",
    "    a = 0.5 * alpha * t_loc2[0]\n",
    "    bb = -0.5 * alpha * t_comm_w\n",
    "    c = beta * t_loc2[0]\n",
    "    if (N < xxx):\n",
    "        batch[2] = N\n",
    "    elif (xxx < b_1_0):\n",
    "        batch[2] = b_1_0\n",
    "    else:\n",
    "        batch[2] = xxx\n",
    "    batch[3] = F(batch[2], a, bb, c)\n",
    "    if (batch[1] < batch[3]):\n",
    "        batch[4] = batch[1]\n",
    "        batch[5] = batch[0]\n",
    "    else:\n",
    "        batch[4] = batch[3]\n",
    "        batch[5] = batch[2]\n",
    "    \n",
    "    b1w = batch[5]\n",
    "    bw = generate_bw(t_loc)\n",
    "    print(b1w)\n",
    "    \n",
    "    res8, time8 = accelarated_extragradient_division(0.75, 1/L, 0.01, 0.01, 0.01, X, y, np.ones(d), 25, b, t_loc, t_comm_w)\n",
    "    res7, time7 = accelarated_extragradient_division(0.75, 1/L, 0.01, 0.01, 0.01, X, y, np.ones(d), 25, bw, t_loc, t_comm_w)\n",
    "    #res9, time9 = accelarated_extragradient_division(0.75, 1/L, 0.01, 0.01, 0.01, X, y, np.ones(d), 25, bw, t_loc, t_comm_w)\n",
    "\n",
    "    acceleration_problem2.append(sum(time8)/sum(time7))\n",
    "    print(i)"
   ]
  },
  {
   "cell_type": "markdown",
   "id": "8efdc205",
   "metadata": {},
   "source": [
    "# Вторая задача поиском питона"
   ]
  },
  {
   "cell_type": "code",
   "execution_count": 26,
   "id": "4b53465f",
   "metadata": {},
   "outputs": [],
   "source": [
    "def minimum_finding1(t_comm):\n",
    "    sum_t_loc = 1/(sum(1/t_loc2[i] for i in range(1, t_loc2.shape[0])))\n",
    "    b_1_0 = N*(sum_t_loc)/(sum_t_loc + t_loc2[0])\n",
    "    #0 < b_1 <= b_1_0\n",
    "\n",
    "    a1 = - alpha * sum_t_loc\n",
    "    b1 = alpha * (sum_t_loc * N + t_comm)\n",
    "    c1 = beta * t_loc2[0]\n",
    "\n",
    "    a2 = alpha * t_loc2[0]\n",
    "    b2 = alpha * (t_comm)\n",
    "    c2 = beta * t_loc2[0]\n",
    "    \n",
    "    def func1(x):\n",
    "        return a1*x**(1/2) + b1*x**(-1/2) + c1*x\n",
    "    def func2(x):\n",
    "        return a2*x**(1/2) + b2*x**(-1/2) + c2*x\n",
    "\n",
    "    res1 = minimize_scalar(func1, bounds=(1,floor(b_1_0)), method='bounded')\n",
    "    res2 = minimize_scalar(func2, bounds=(ceil(b_1_0),N), method='bounded')\n",
    "\n",
    "    #print(b_1_0)\n",
    "    \n",
    "    res11 = floor(res1.x)\n",
    "    res12 = ceil(res1.x)\n",
    "    res21 = floor(res2.x)\n",
    "    res22 = ceil(res2.x)\n",
    "    fres11 = func1(res11)\n",
    "    fres12 = func1(res12)\n",
    "    fres21 = func2(res21)\n",
    "    fres22 = func2(res22)\n",
    "\n",
    "    if (fres11 < fres12):\n",
    "        result1 = [res11, fres11]\n",
    "    else:\n",
    "        result1 = [res12, fres12]\n",
    "\n",
    "\n",
    "    if (fres21 < fres22):\n",
    "        result2 = [res21, fres21]\n",
    "    else:\n",
    "        result2 = [res22, fres22]\n",
    "    \n",
    "    if (result1[1] < result2[1]):\n",
    "        result = [result1[0], result1[1]]\n",
    "    else:\n",
    "        result = [result2[0], result2[1]]\n",
    "\n",
    "    return result[0]"
   ]
  },
  {
   "cell_type": "code",
   "execution_count": 27,
   "id": "257439e5",
   "metadata": {},
   "outputs": [],
   "source": [
    "def generate_b_opt1(t_loc2, comm):\n",
    "    b1 = np.array([])\n",
    "    b1 = np.append(b1, minimum_finding1(comm))\n",
    "    last = N \n",
    "    for i in range (1, t_loc2.shape[0]):\n",
    "        last -= b1[-1]\n",
    "        S = (sum(1/t_loc2[k] for k in range(i, t_loc2.shape[0])))**(-1)\n",
    "        b1 = np.append(b1, round(last/t_loc2[i]*S))\n",
    "    return b1"
   ]
  },
  {
   "cell_type": "code",
   "execution_count": 40,
   "id": "04ec288d",
   "metadata": {},
   "outputs": [
    {
     "name": "stdout",
     "output_type": "stream",
     "text": [
      "[   5. 4884. 4884. 4884. 4884. 4884. 4884. 4884. 4884. 4884. 4884. 4884.\n",
      " 4884. 4884. 4884. 4884. 4884. 4884. 4883. 4884. 4883.]\n",
      "-6\n",
      "[   5. 4884. 4884. 4884. 4884. 4884. 4884. 4884. 4884. 4884. 4884. 4884.\n",
      " 4884. 4884. 4884. 4884. 4884. 4884. 4883. 4884. 4883.]\n",
      "-5\n",
      "[   5. 4884. 4884. 4884. 4884. 4884. 4884. 4884. 4884. 4884. 4884. 4884.\n",
      " 4884. 4884. 4884. 4884. 4884. 4884. 4883. 4884. 4883.]\n",
      "-4\n",
      "[   5. 4884. 4884. 4884. 4884. 4884. 4884. 4884. 4884. 4884. 4884. 4884.\n",
      " 4884. 4884. 4884. 4884. 4884. 4884. 4883. 4884. 4883.]\n",
      "-3\n",
      "[   5. 4884. 4884. 4884. 4884. 4884. 4884. 4884. 4884. 4884. 4884. 4884.\n",
      " 4884. 4884. 4884. 4884. 4884. 4884. 4883. 4884. 4883.]\n",
      "-2\n",
      "[   5. 4884. 4884. 4884. 4884. 4884. 4884. 4884. 4884. 4884. 4884. 4884.\n",
      " 4884. 4884. 4884. 4884. 4884. 4884. 4883. 4884. 4883.]\n",
      "-1\n",
      "[   5. 4884. 4884. 4884. 4884. 4884. 4884. 4884. 4884. 4884. 4884. 4884.\n",
      " 4884. 4884. 4884. 4884. 4884. 4884. 4883. 4884. 4883.]\n",
      "0\n",
      "[   5. 4884. 4884. 4884. 4884. 4884. 4884. 4884. 4884. 4884. 4884. 4884.\n",
      " 4884. 4884. 4884. 4884. 4884. 4884. 4883. 4884. 4883.]\n",
      "1\n",
      "[   5. 4884. 4884. 4884. 4884. 4884. 4884. 4884. 4884. 4884. 4884. 4884.\n",
      " 4884. 4884. 4884. 4884. 4884. 4884. 4883. 4884. 4883.]\n",
      "2\n",
      "[   5. 4884. 4884. 4884. 4884. 4884. 4884. 4884. 4884. 4884. 4884. 4884.\n",
      " 4884. 4884. 4884. 4884. 4884. 4884. 4883. 4884. 4883.]\n",
      "3\n",
      "[   6. 4884. 4884. 4884. 4884. 4884. 4884. 4884. 4884. 4884. 4884. 4884.\n",
      " 4884. 4884. 4884. 4884. 4883. 4884. 4883. 4884. 4883.]\n",
      "4\n",
      "[  15. 4883. 4883. 4883. 4883. 4883. 4884. 4883. 4884. 4884. 4883. 4884.\n",
      " 4883. 4884. 4883. 4884. 4883. 4884. 4883. 4884. 4883.]\n",
      "5\n",
      "[  64. 4881. 4881. 4881. 4881. 4881. 4881. 4881. 4881. 4881. 4881. 4881.\n",
      " 4881. 4881. 4881. 4881. 4881. 4881. 4881. 4880. 4881.]\n",
      "6\n",
      "[ 293. 4869. 4870. 4869. 4870. 4869. 4870. 4869. 4870. 4870. 4869. 4870.\n",
      " 4869. 4870. 4869. 4870. 4869. 4870. 4869. 4870. 4869.]\n",
      "7\n",
      "[1357. 4816. 4816. 4816. 4816. 4816. 4816. 4816. 4816. 4816. 4817. 4816.\n",
      " 4817. 4816. 4817. 4816. 4817. 4816. 4817. 4816. 4817.]\n",
      "8\n",
      "[6300. 4569. 4569. 4569. 4569. 4569. 4569. 4569. 4569. 4569. 4569. 4569.\n",
      " 4569. 4569. 4569. 4570. 4569. 4570. 4569. 4570. 4569.]\n",
      "9\n",
      "[29240.  3422.  3422.  3422.  3422.  3422.  3422.  3422.  3422.  3422.\n",
      "  3422.  3422.  3422.  3422.  3422.  3422.  3423.  3422.  3423.  3422.\n",
      "  3423.]\n",
      "10\n"
     ]
    }
   ],
   "source": [
    "acceleration_opt_problem2 = []\n",
    "for i in range (-14, 3):\n",
    "    b_opt = generate_b_opt1(t_loc, 10**(i + 8))\n",
    "    print(b_opt)\n",
    "    res1, time1 = accelarated_extragradient_division(0.75, 1/L, 0.01, 0.01, 0.01, X, y, np.ones(d), 25, b, t_loc, 53*(10**i))\n",
    "    res2, time2 = accelarated_extragradient_division(0.75, 1/L, 0.01, 0.01, 0.01, X, y, np.ones(d), 25, b_opt, t_loc, 53*(10**i))\n",
    "    acceleration_opt_problem2.append(sum(time1)/sum(time2))\n",
    "    print(i + 8)"
   ]
  },
  {
   "cell_type": "code",
   "execution_count": 34,
   "id": "3a0c941a",
   "metadata": {},
   "outputs": [
    {
     "data": {
      "image/png": "[encoded data removed]",
      "text/plain": [
       "<Figure size 1080x1440 with 1 Axes>"
      ]
     },
     "metadata": {
      "needs_background": "light"
     },
     "output_type": "display_data"
    }
   ],
   "source": [
    "plt.figure(figsize=(15, 20))\n",
    "\n",
    "pylab.subplot (2, 1, 2)\n",
    "pylab.plot(np.arange(-6, 11, 1), acceleration_problem2, label = 'formula curve problem 2', linewidth = 3, color = 'darkorange')\n",
    "pylab.plot(np.arange(-6, 11, 1), acceleration_opt_problem2, label = 'optimal curve problem 2', linewidth = 3, color = 'navy')\n",
    "plt.legend(fontsize = 15)\n",
    "plt.xlabel(r\"$\\frac{t_{comm}}{t_1^{loc}}$\", fontsize = 25)\n",
    "plt.ylabel(r\"acceleration\", fontsize = 25)\n",
    "plt.title(\"Accelerations dependence from communication time\", fontsize = 30)\n",
    "plt.grid(color = 'k', linewidth = 0.9)"
   ]
  },
  {
   "cell_type": "code",
   "execution_count": null,
   "id": "93c8bee3",
   "metadata": {},
   "outputs": [],
   "source": []
  },
  {
   "cell_type": "code",
   "execution_count": null,
   "id": "ea29d5ba",
   "metadata": {},
   "outputs": [],
   "source": []
  },
  {
   "cell_type": "markdown",
   "id": "1de944a7",
   "metadata": {},
   "source": [
    "#### Вывод: \n",
    "\n",
    "|           | $\\delta = \\frac{L}{\\sqrt{b_1}}$                     | | $\\delta = \\frac{L}{b_1}$                    | |\n",
    "|-----------|:-------------------------------:|--------------------|:------------------------:|--------------------|\n",
    "|           |       Большие коммуникации      | Малые коммуникации |   Большие коммуникации   | Малые коммуникации |\n",
    "| Ускорение |               1.4               |         5.6        |            1.2           |         9.1        |"
   ]
  },
  {
   "cell_type": "code",
   "execution_count": null,
   "id": "fd4d221b",
   "metadata": {},
   "outputs": [],
   "source": []
  }
 ],
 "metadata": {
  "kernelspec": {
   "display_name": "Python 3 (ipykernel)",
   "language": "python",
   "name": "python3"
  },
  "language_info": {
   "codemirror_mode": {
    "name": "ipython",
    "version": 3
   },
   "file_extension": ".py",
   "mimetype": "text/x-python",
   "name": "python",
   "nbconvert_exporter": "python",
   "pygments_lexer": "ipython3",
   "version": "3.8.0"
  }
 },
 "nbformat": 4,
 "nbformat_minor": 5
}
