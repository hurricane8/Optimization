{
 "cells": [
  {
   "cell_type": "code",
   "execution_count": 3,
   "id": "749c6e19",
   "metadata": {},
   "outputs": [],
   "source": [
    "import numpy as np\n",
    "from numpy import linalg\n",
    "import sklearn \n",
    "from sklearn.model_selection import train_test_split\n",
    "from sklearn.datasets import load_svmlight_file\n",
    "import math\n",
    "import pandas as pd\n",
    "from datetime import datetime\n",
    "from scipy.spatial import distance\n",
    "import re\n",
    "import matplotlib.pyplot as plt\n",
    "import scipy.stats as sts\n",
    "from scipy.stats import ortho_group\n",
    "m = ortho_group.rvs(dim=3)\n",
    "from sklearn import ensemble, model_selection, metrics, tree\n",
    "%matplotlib inline\n",
    "from sklearn.datasets import load_digits\n",
    "import time"
   ]
  },
  {
   "cell_type": "markdown",
   "id": "e9a52290",
   "metadata": {},
   "source": [
    "#### Загрузим датасет и размножим его "
   ]
  },
  {
   "cell_type": "code",
   "execution_count": 4,
   "id": "659625a0",
   "metadata": {},
   "outputs": [],
   "source": [
    "dataset = \"a9a.txt\"\n",
    "data = load_svmlight_file(dataset)\n",
    "X1, y1 = data[0].toarray(), data[1]\n",
    "n1, d1 = X1.shape\n",
    "\n",
    "X2, y2 = data[0].toarray(), data[1]\n",
    "n2, d2 = X2.shape\n",
    "\n",
    "X3, y3 = data[0].toarray(), data[1]\n",
    "n3, d3 = X3.shape"
   ]
  },
  {
   "cell_type": "code",
   "execution_count": 5,
   "id": "47c3ece6",
   "metadata": {},
   "outputs": [
    {
     "name": "stdout",
     "output_type": "stream",
     "text": [
      "97683 123\n"
     ]
    }
   ],
   "source": [
    "X = np.vstack([X1, X2, X3])\n",
    "y = np.concatenate([y1, y2, y3])\n",
    "N, d = X.shape\n",
    "print(N, d)"
   ]
  },
  {
   "cell_type": "markdown",
   "id": "cb998c4c",
   "metadata": {},
   "source": [
    "#### Добавим шума"
   ]
  },
  {
   "cell_type": "code",
   "execution_count": 6,
   "id": "b2d585b1",
   "metadata": {},
   "outputs": [],
   "source": [
    "mu=0.0\n",
    "std = 0.05 * np.std(X) # for %5 Gaussian noise\n",
    "def gaussian_noise(x,mu,std):\n",
    "    noise = np.random.normal(mu, std, size = x.shape)\n",
    "    x_noisy = x + noise\n",
    "    return x_noisy \n",
    "X = gaussian_noise(X, mu, std)"
   ]
  },
  {
   "cell_type": "markdown",
   "id": "6999d0b9",
   "metadata": {},
   "source": [
    "\\begin{equation}\n",
    "\\min_{w \\in \\mathbb{R}^d} \\frac{1}{n} \\sum\\limits_{i=1}^n l (g(w, x_i), y_i),\n",
    "\\end{equation}\n",
    "где $l$ - функция потерь, $g$ - модель, $w$ - параметры модели, $\\{x_i, y_i\\}_{i=1}^n$ - выборка данных из векторов признаков $x_i$ и меток $y_i$.\n",
    "\n",
    "Далее будем рассматривать линейной модель $g(w, x) = w^T x$ и квадратичную функцию потерь $l(z, y) = (z-y)^2$.\n",
    "#### Рассчитаем $L, \\mu$."
   ]
  },
  {
   "cell_type": "code",
   "execution_count": 7,
   "id": "9e9ab904",
   "metadata": {},
   "outputs": [
    {
     "name": "stdout",
     "output_type": "stream",
     "text": [
      "L = 6.287904270918885\n",
      "mu = 0.0002447896098221913\n"
     ]
    }
   ],
   "source": [
    "L = max(np.linalg.eigvalsh(1/N*X.T.dot(X)))\n",
    "mu = min(np.linalg.eigvalsh(1/N*X.T.dot(X)))\n",
    "print(\"L =\", L)\n",
    "print(\"mu =\", mu)"
   ]
  },
  {
   "cell_type": "markdown",
   "id": "f27b7aba",
   "metadata": {},
   "source": [
    "#### Построим временную симуляцию"
   ]
  },
  {
   "cell_type": "code",
   "execution_count": 8,
   "id": "42e503a3",
   "metadata": {},
   "outputs": [],
   "source": [
    "def All_time(t_loc, t_comm, b, L, mu, eps, c1, c2):\n",
    "    t = np.array([])\n",
    "    for i in range (t_loc.shape[0]):\n",
    "        t = np.append(t, t_loc[i]*b[i])\n",
    "    maxim = max(t)\n",
    "    #print(maxim)\n",
    "    K = c1*(L/mu)**0.5*np.log(1/eps)*b[0]**-0.25\n",
    "    #print(K)\n",
    "    k_some = c2*(L/mu)**0.5*np.log(1/eps)\n",
    "    #print(k_some)\n",
    "    T = K*maxim + K*t_comm + t[0]*k_some\n",
    "    #print(float(int(K*t_comm)), K, t_comm, float(int(t[0]*k_some)), k_some, t[0])\n",
    "    return T"
   ]
  },
  {
   "cell_type": "markdown",
   "id": "15de8d0a",
   "metadata": {},
   "source": [
    "## Рассмотрим случай больших коммуникаций"
   ]
  },
  {
   "cell_type": "code",
   "execution_count": 10,
   "id": "b5752ef6",
   "metadata": {},
   "outputs": [
    {
     "name": "stdout",
     "output_type": "stream",
     "text": [
      "700.0602944751523 700060.2944751523\n"
     ]
    }
   ],
   "source": [
    "t_comm = 1e+9\n",
    "epsilon = 4.855708467588126e-09\n",
    "c1 = 700.0602944751523\n",
    "c2 = c1 * 1000\n",
    "print(c1, c2)\n",
    "alpha = c1*(L/mu)**0.5*np.log(1/epsilon)\n",
    "beta = c2*(L/mu)**0.5*np.log(1/epsilon)\n"
   ]
  },
  {
   "cell_type": "code",
   "execution_count": 11,
   "id": "c6c246ff",
   "metadata": {},
   "outputs": [
    {
     "name": "stdout",
     "output_type": "stream",
     "text": [
      "[20814.  3843.  3843.  3844.  3843.  3844.  3843.  3844.  3843.  3844.\n",
      "  3843.  3844.  3843.  3844.  3843.  3844.  3843.  3844.  3843.  3844.\n",
      "  3843.]\n"
     ]
    }
   ],
   "source": [
    "def generate_t_loc1():\n",
    "    t_loc1 = np.random.uniform(3, 7, 21)\n",
    "    t_loc1[0] = 1\n",
    "    t_loc1 = np.array(t_loc1)\n",
    "    return t_loc1\n",
    "t_loc1 = generate_t_loc1()\n",
    "\n",
    "def generate_b1(t_loc1):\n",
    "    b1 = np.array([])\n",
    "    b1 = np.append(b1, max(1,int(min(round((t_comm*alpha/(4*beta*t_loc1[0]))**0.8), N))))\n",
    "    last = N\n",
    "    for i in range (1, t_loc1.shape[0]):\n",
    "        last = last - b1[-1]\n",
    "        b1 = np.append(b1, round(last/(t_loc1.shape[0] - i)))\n",
    "    return b1\n",
    "b1 = generate_b1(t_loc1)\n",
    "print(b1)"
   ]
  },
  {
   "cell_type": "code",
   "execution_count": 12,
   "id": "584aa0ca",
   "metadata": {},
   "outputs": [],
   "source": [
    "sum_t_loc = 0\n",
    "for j in range(1, len(t_loc1)):\n",
    "    sum_t_loc += t_loc1[j] ** (-1)\n",
    "sum_t_loc = sum_t_loc ** (-1)"
   ]
  },
  {
   "cell_type": "code",
   "execution_count": 395,
   "id": "cd9fbcf7",
   "metadata": {},
   "outputs": [
    {
     "name": "stdout",
     "output_type": "stream",
     "text": [
      "12379243907217570\n"
     ]
    }
   ],
   "source": [
    "t1 = round(All_time(t_loc1, t_comm, b1, L, mu, epsilon, c1, c2))\n",
    "print(t1)"
   ]
  },
  {
   "cell_type": "markdown",
   "id": "ad54b604",
   "metadata": {},
   "source": [
    "#### Рассмотрим равномерное распределение датасета"
   ]
  },
  {
   "cell_type": "code",
   "execution_count": 396,
   "id": "ca6d629e",
   "metadata": {},
   "outputs": [
    {
     "name": "stdout",
     "output_type": "stream",
     "text": [
      "[2262. 4636. 1964. 2722. 9416. 8442. 6613. 4166. 6336. 2446. 1211. 2537.\n",
      " 8180. 2466. 1491. 9019. 8187. 2093. 4055. 1942. 7500.]\n"
     ]
    }
   ],
   "source": [
    "def generate_t_loc2():\n",
    "    t_loc2 = np.random.uniform(3, 7, 21)\n",
    "    t_loc2[0] = 1\n",
    "    t_loc2 = np.array(t_loc2)\n",
    "    return t_loc2\n",
    "t_loc2 = np.copy(t_loc1)\n",
    "\n",
    "def generate_b2(t_loc2):\n",
    "    rand = np.random.uniform(1, 10, t_loc2.shape[0])\n",
    "    b2 = np.array([])\n",
    "    for i in range (t_loc2.shape[0]):\n",
    "        b2 = np.append(b2, round(N*rand[i]/sum(rand)))\n",
    "    return b2\n",
    "b2 = generate_b2(t_loc2)\n",
    "print(b2)"
   ]
  },
  {
   "cell_type": "markdown",
   "id": "31fcad7e",
   "metadata": {},
   "source": [
    "#### Проведем серию из 1000 экспериментов и найдем среднее значение времени"
   ]
  },
  {
   "cell_type": "code",
   "execution_count": 397,
   "id": "7a2b185c",
   "metadata": {},
   "outputs": [
    {
     "name": "stdout",
     "output_type": "stream",
     "text": [
      "2.708662906157272e+16\n"
     ]
    }
   ],
   "source": [
    "t_exp = np.array([])\n",
    "for i in range (1000):\n",
    "    t_loc2 = generate_t_loc2()\n",
    "    b2 = generate_b2(t_loc2)\n",
    "    t_exp = np.append(t_exp, round(All_time(t_loc2, t_comm, b2, L, mu, epsilon, c1, c2)))\n",
    "t2 = sum(t_exp)/1000\n",
    "print(t2)"
   ]
  },
  {
   "cell_type": "markdown",
   "id": "1689dcbc",
   "metadata": {},
   "source": [
    "### Итоговое ускорение"
   ]
  },
  {
   "cell_type": "code",
   "execution_count": 398,
   "id": "7c28685b",
   "metadata": {},
   "outputs": [
    {
     "name": "stdout",
     "output_type": "stream",
     "text": [
      "ускорили выполнение программы в  2.188 раза\n"
     ]
    }
   ],
   "source": [
    "print(\"ускорили выполнение программы в  {:.3f} раза\".format((t2)/t1))"
   ]
  },
  {
   "cell_type": "markdown",
   "id": "7b63b696",
   "metadata": {},
   "source": [
    "Общий случай"
   ]
  },
  {
   "cell_type": "code",
   "execution_count": 201,
   "id": "f06a4a48",
   "metadata": {},
   "outputs": [
    {
     "name": "stdout",
     "output_type": "stream",
     "text": [
      "39530449836307.05 6124.963312683663\n",
      "43753433626893.17\n",
      "ускорили выполнение программы в  1.1 раза\n"
     ]
    }
   ],
   "source": [
    "def F(x, aa, bb, cc):\n",
    "    return (2*aa * x**0.5 + (-2)*bb * x**(-0.5) + cc * x)\n",
    "\n",
    "\n",
    "b_1_0 = N/21\n",
    "#0 < b_1 <= b_1_0\n",
    "sum_t_loc2 = 1/(sum(1/t_loc2[i] for i in range(1, t_loc2.shape[0])))\n",
    "b = - 0.5 * alpha * (N * sum_t_loc2 + t_comm)\n",
    "a = - 0.5 * alpha * sum_t_loc2\n",
    "c = beta * t_loc2[0]\n",
    "root = (2*a**6 + 3*math.sqrt(3)*math.sqrt(4*a**3*b**3*c**6 + 27*b**4*c**8)+18*a**3*b*c**2+27*b**2*c**4)**(1/3)\n",
    "xxx = a**2 / (3 * c**2) + (root)/(3*2**(1/3)*c**2) - (2**(0.33)*(-a**4-6*a*b*c**2)) / (3*c**2*root)\n",
    "batch = list([0.0, 0.0, 0.0, 0.0, 0.0, 0.0])\n",
    "#print(b_1_0, xxx)\n",
    "if (b_1_0 < xxx ):\n",
    "    batch[0] = b_1_0\n",
    "else:\n",
    "    batch[0] = xxx\n",
    "batch[1] = F(batch[0], a, b, c)\n",
    "#print(batch[1], a, b, c)\n",
    "# b_1_0 < b_1 <= N \n",
    "a = 0.5 * alpha * t_loc2[0]\n",
    "b = -0.5 * alpha * t_comm\n",
    "c = beta * t_loc2[0]\n",
    "if (N >=xxx):\n",
    "    batch[2] = xxx\n",
    "else:\n",
    "    batch[2] = N\n",
    "batch[3] = F(batch[2], a, b, c)\n",
    "#print(batch[3])\n",
    "if (batch[1] < batch[3]):\n",
    "    batch[4] = batch[1]\n",
    "    batch[5] = batch[0]\n",
    "else:\n",
    "    batch[4] = batch[3]\n",
    "    batch[5] = batch[2]\n",
    "\n",
    "print(batch[4], batch[5])\n",
    "\n",
    "def All_time2(t_loc, t_comm, b, L, mu, eps, c1, c2):\n",
    "    t = np.array([])\n",
    "    for i in range (t_loc.shape[0]):\n",
    "        t = np.append(t, t_loc[i]*b[i])\n",
    "    maxim = max(t)\n",
    "    #print(maxim)\n",
    "    K = c1*(L/mu)**0.5*np.log(1/eps)*b[0]**-0.5\n",
    "    #print(K)\n",
    "    k_some = c2*(L/mu)**0.5*np.log(1/eps)\n",
    "    #print(k_some)\n",
    "    T = K*maxim + K*t_comm + t[0]*k_some\n",
    "    return T\n",
    "t_exp = np.array([])\n",
    "for i in range (1000):\n",
    "    t_loc2 = generate_t_loc2()\n",
    "    b2 = generate_b2(t_loc2)\n",
    "    t_exp = np.append(t_exp, round(All_time2(t_loc2, t_comm, b2, L, mu, epsilon, c1, c2)))\n",
    "t2 = sum(t_exp)/1000\n",
    "print(t2)\n",
    "\n",
    "print(\"ускорили выполнение программы в  {:.1f} раза\".format((t2)/batch[4]))"
   ]
  },
  {
   "cell_type": "markdown",
   "id": "fcab2aa3",
   "metadata": {},
   "source": [
    "## Рассмотрим случай малых коммуникаций"
   ]
  },
  {
   "cell_type": "code",
   "execution_count": 49,
   "id": "54573ee6",
   "metadata": {},
   "outputs": [],
   "source": [
    "t_comm = 1e+6\n",
    "epsilon = 4.855708467588126e-09\n"
   ]
  },
  {
   "cell_type": "code",
   "execution_count": 50,
   "id": "62dca6ad",
   "metadata": {},
   "outputs": [
    {
     "name": "stdout",
     "output_type": "stream",
     "text": [
      "[18584.  4240.  3222.  3223.  2657.  4325.  3985.  3035.  4428.  2689.\n",
      "  4422.  2745.  4444.  6003.  3732.  3555.  3292.  4801.  3137.  5984.\n",
      "  5180.]\n"
     ]
    }
   ],
   "source": [
    "def generate_t_loc1():\n",
    "    t_loc1 = np.random.uniform(3, 7, 21)\n",
    "    t_loc1[0] = 1\n",
    "    t_loc1 = np.array(t_loc1)\n",
    "    return t_loc1\n",
    "t_loc1 = generate_t_loc1()\n",
    "\n",
    "def generate_b1(t_loc1):\n",
    "    b1 = np.array([])\n",
    "    S = (sum(1/t_loc1[i] for i in range(1, t_loc1.shape[0])))**(-1)\n",
    "    b1 = np.append(b1, max(1, round(N*S/(t_loc1[0] + S))))\n",
    "    last = N\n",
    "    for i in range (1, t_loc1.shape[0]):\n",
    "        last -=  b1[-1]\n",
    "        S = (sum(1/t_loc1[k] for k in range(i, t_loc1.shape[0])))**(-1)\n",
    "        b1 = np.append(b1, round(last/t_loc1[i]*S))\n",
    "    \n",
    "    return b1\n",
    "b1 = generate_b1(t_loc1)\n",
    "print(b1)"
   ]
  },
  {
   "cell_type": "markdown",
   "id": "abe9728f",
   "metadata": {},
   "source": [
    "#### Проведем серию из 1000 экспериментов и найдем среднее значение времени"
   ]
  },
  {
   "cell_type": "code",
   "execution_count": 51,
   "id": "dbbc8120",
   "metadata": {},
   "outputs": [
    {
     "name": "stdout",
     "output_type": "stream",
     "text": [
      "8.389709017556795e+16\n"
     ]
    }
   ],
   "source": [
    "t_exp = np.array([])\n",
    "for i in range (1000):\n",
    "    t_loc1 = generate_t_loc1()\n",
    "    b1 = generate_b1(t_loc1)\n",
    "    t_exp = np.append(t_exp, round(All_time(t_loc1, t_comm, b1, L, mu, 0.1, c1, c2)))\n",
    "t1 = sum(t_exp)/1000\n",
    "print(t1)"
   ]
  },
  {
   "cell_type": "code",
   "execution_count": 52,
   "id": "596abe37",
   "metadata": {},
   "outputs": [
    {
     "name": "stdout",
     "output_type": "stream",
     "text": [
      "[2.6150e+03 4.7940e+03 3.9100e+02 2.4630e+03 3.8590e+03 6.0100e+02\n",
      " 1.2305e+04 2.2740e+03 1.7140e+03 3.3660e+03 1.7220e+03 2.0810e+03\n",
      " 1.0900e+02 3.5831e+04 4.4800e+02 7.0000e+00 2.8100e+03 2.8170e+03\n",
      " 8.4660e+03 3.7500e+03 2.7310e+03]\n"
     ]
    }
   ],
   "source": [
    "def generate_t_loc2():\n",
    "    t_loc2 = np.random.randint(3, 7, 21)\n",
    "    t_loc2[0] = 1\n",
    "    t_loc2 = np.array(t_loc2)\n",
    "    return t_loc2\n",
    "t_loc2 = np.copy(t_loc1)\n",
    "\n",
    "def generate_b2(t_loc2):\n",
    "    rand = np.random.uniform(0, N, t_loc2.shape[0])\n",
    "    rand = np.sort(rand)\n",
    "    for j in rand:\n",
    "        j = int(j)\n",
    "    rand = np.append(rand, N)\n",
    "    #print(rand)\n",
    "    b2 = np.array([])\n",
    "    b2 = np.append(b2, max(1, round(rand[1] - rand[0])))\n",
    "    for i in range (1, t_loc2.shape[0]):\n",
    "        b2 = np.append(b2, round(rand[i+1] - rand[i]))\n",
    "    return b2\n",
    "b2 = generate_b2(t_loc2)\n",
    "print(b2)"
   ]
  },
  {
   "cell_type": "markdown",
   "id": "f38ea07f",
   "metadata": {},
   "source": [
    "#### Проведем серию из 1000 экспериментов и найдем среднее значение времени"
   ]
  },
  {
   "cell_type": "code",
   "execution_count": 53,
   "id": "5796c6eb",
   "metadata": {},
   "outputs": [
    {
     "name": "stdout",
     "output_type": "stream",
     "text": [
      "1.1017824505095891e+18\n"
     ]
    }
   ],
   "source": [
    "t_exp = np.array([])\n",
    "for i in range (1000):\n",
    "    t_loc2 = generate_t_loc2()\n",
    "    b2 = generate_b2(t_loc2)\n",
    "    t_exp = np.append(t_exp, round(All_time(t_loc2, t_comm, b2, L, mu, epsilon, c1, c2)))\n",
    "t2 = sum(t_exp)/1000\n",
    "print(t2)"
   ]
  },
  {
   "cell_type": "markdown",
   "id": "6dc031e0",
   "metadata": {},
   "source": [
    "### Итоговое ускорение"
   ]
  },
  {
   "cell_type": "code",
   "execution_count": 54,
   "id": "4f7526f7",
   "metadata": {},
   "outputs": [
    {
     "name": "stdout",
     "output_type": "stream",
     "text": [
      "ускорили выполнение программы в  13.13255 раза\n"
     ]
    }
   ],
   "source": [
    "print(\"ускорили выполнение программы в  {:.5f} раза\".format((t2)/t1))"
   ]
  },
  {
   "cell_type": "markdown",
   "id": "1d02d93a",
   "metadata": {},
   "source": [
    "Общий случай: "
   ]
  },
  {
   "cell_type": "code",
   "execution_count": 55,
   "id": "20a448ce",
   "metadata": {},
   "outputs": [
    {
     "name": "stdout",
     "output_type": "stream",
     "text": [
      "19536.6 63.84840586474767\n",
      "411404288350.4705 -223734.62345606327 -1095781261812.1624 2147852385.178207\n",
      "41978258783724.14\n",
      "411404288350.4705 64\n"
     ]
    }
   ],
   "source": [
    "def F(x, aa, bb, cc):\n",
    "    return (2*aa * x**0.5 + (-2)*bb * x**(-0.5) + cc * x)\n",
    "\n",
    "\n",
    "b_1_0 = N/5\n",
    "#0 < b_1 <= b_1_0\n",
    "sum_t_loc2 = 1/(sum(1/t_loc2[i] for i in range(1, t_loc2.shape[0])))\n",
    "b = - 0.5 * alpha * (N * sum_t_loc2 + t_comm)\n",
    "a = - 0.5 * alpha * sum_t_loc2\n",
    "c = beta * t_loc2[0]\n",
    "root = (2*a**6 + 3*math.sqrt(3)*math.sqrt(4*a**3*b**3*c**6 + 27*b**4*c**8)+18*a**3*b*c**2+27*b**2*c**4)**(1/3)\n",
    "xxx = a**2 / (3 * c**2) + (root)/(3*2**(1/3)*c**2) - (2**(0.33)*(-a**4-6*a*b*c**2)) / (3*c**2*root)\n",
    "batch = list([0.0, 0.0, 0.0, 0.0, 0.0, 0.0])\n",
    "print(b_1_0, xxx)\n",
    "if (b_1_0 < xxx ):\n",
    "    batch[0] = round(b_1_0)\n",
    "else:\n",
    "    batch[0] = round(xxx)\n",
    "batch[1] = F(batch[0], a, b, c)\n",
    "print(batch[1], a, b, c)\n",
    "# b_1_0 < b_1 <= N \n",
    "a = 0.5 * alpha * t_loc2[0]\n",
    "b = -0.5 * alpha * t_comm\n",
    "c = beta * t_loc2[0]\n",
    "if (N < xxx):\n",
    "    batch[2] = round(N)\n",
    "elif (xxx < b_1_0):\n",
    "    batch[2] = round(b_1_0)\n",
    "else:\n",
    "    batch[2] = round(xxx)\n",
    "batch[3] = F(batch[2], a, b, c)\n",
    "print(batch[3])\n",
    "if (batch[1] < batch[3]):\n",
    "    batch[4] = batch[1]\n",
    "    batch[5] = batch[0]\n",
    "else:\n",
    "    batch[4] = batch[3]\n",
    "    batch[5] = batch[2]\n",
    "\n",
    "print(batch[4], batch[5])"
   ]
  },
  {
   "cell_type": "code",
   "execution_count": 221,
   "id": "1d773d52",
   "metadata": {},
   "outputs": [
    {
     "name": "stdout",
     "output_type": "stream",
     "text": [
      "9735273891553.12\n",
      "38941137336.426\n"
     ]
    }
   ],
   "source": [
    "def All_time2(t_loc, t_comm, b, L, mu, eps, c1, c2):\n",
    "    t = np.array([])\n",
    "    for i in range (t_loc.shape[0]):\n",
    "        t = np.append(t, t_loc[i]*b[i])\n",
    "    maxim = max(t)\n",
    "    #print(maxim)\n",
    "    K = c1*(L/mu)**0.5*np.log(1/eps)*b[0]**-0.5\n",
    "    #print(K)\n",
    "    k_some = c2*(L/mu)**0.5*np.log(1/eps)\n",
    "    #print(k_some)\n",
    "    T = K*maxim + K*t_comm + t[0]*k_some\n",
    "    return T\n",
    "\n",
    "t_exp = np.array([])\n",
    "for i in range (1000):\n",
    "    t_loc2 = generate_t_loc2()\n",
    "    b2 = generate_b2(t_loc2)\n",
    "    t_exp = np.append(t_exp, round(All_time2(t_loc2, t_comm, b2, L, mu, epsilon, c1, c2)))\n",
    "t2 = sum(t_exp)/1000\n",
    "print(t2)\n",
    "\n",
    "t_exp = np.array([])\n",
    "for i in range (1000):\n",
    "    t_loc2 = generate_t_loc2()\n",
    "    b2 = np.array([5])\n",
    "    last = N - b2[0]\n",
    "    for i in range (1, t_loc2.shape[0]):\n",
    "        last = last - b2[-1]\n",
    "        b2 = np.append(b2, round(last/(t_loc2.shape[0] - i)))\n",
    "    t_exp = np.append(t_exp, round(All_time2(t_loc2, t_comm, b2, L, mu, epsilon, c1, c2)))\n",
    "t222 = sum(t_exp)/1000\n",
    "print(t222)"
   ]
  },
  {
   "cell_type": "code",
   "execution_count": 223,
   "id": "44d2c982",
   "metadata": {},
   "outputs": [
    {
     "name": "stdout",
     "output_type": "stream",
     "text": [
      "ускорили выполнение программы в  904.6 раза\n"
     ]
    }
   ],
   "source": [
    "print(\"ускорили выполнение программы в  {:.1f} раза\".format((t2)/batch[4]))\n",
    "#print(\"ускорили выполнение программы в  {:.1f} раза\".format((t2)/t222))"
   ]
  },
  {
   "cell_type": "markdown",
   "id": "9f8e7e4e",
   "metadata": {},
   "source": [
    "Умножение матриц"
   ]
  },
  {
   "cell_type": "code",
   "execution_count": 215,
   "id": "62fe3602",
   "metadata": {},
   "outputs": [],
   "source": [
    "def multiplication(XX,YY):\n",
    "    print(XX.shape)\n",
    "    XX_len = XX.shape[0]\n",
    "    YY_len = XX.shape[1]\n",
    "    result = np.zeros((XX_len, XX_len))\n",
    "    begin_time = time.time()\n",
    "    for i in range(XX_len):\n",
    "     # iterate through columns of Y\n",
    "        for j in range(XX_len):\n",
    "     # iterate through rows of Y\n",
    "            for k in range(YY_len):\n",
    "                result[i][j] += XX[i][k] * YY[k][j]\n",
    "    return (time.time() - begin_time)\n",
    "\n",
    "def generate_matrix(yyy, xxx):\n",
    "    return np.array([[np.random.uniform (-100, 100) for i in range (xxx)] for j in range (yyy)])"
   ]
  },
  {
   "cell_type": "code",
   "execution_count": 216,
   "id": "a28c562f",
   "metadata": {},
   "outputs": [
    {
     "name": "stdout",
     "output_type": "stream",
     "text": [
      "(0, 123)\n",
      "(40, 123)\n",
      "(80, 123)\n",
      "(120, 123)\n"
     ]
    },
    {
     "ename": "KeyboardInterrupt",
     "evalue": "",
     "output_type": "error",
     "traceback": [
      "\u001b[0;31m---------------------------------------------------------------------------\u001b[0m",
      "\u001b[0;31mKeyboardInterrupt\u001b[0m                         Traceback (most recent call last)",
      "\u001b[0;32m/var/folders/2z/h4ypwr2j2f70t152_xqwp5w40000gn/T/ipykernel_62185/2984271160.py\u001b[0m in \u001b[0;36m<module>\u001b[0;34m\u001b[0m\n\u001b[1;32m      4\u001b[0m \u001b[0;32mfor\u001b[0m \u001b[0mj\u001b[0m \u001b[0;32min\u001b[0m \u001b[0mSizes\u001b[0m\u001b[0;34m:\u001b[0m\u001b[0;34m\u001b[0m\u001b[0;34m\u001b[0m\u001b[0m\n\u001b[1;32m      5\u001b[0m     \u001b[0mMatrix1\u001b[0m \u001b[0;34m=\u001b[0m \u001b[0mgenerate_matrix\u001b[0m\u001b[0;34m(\u001b[0m\u001b[0;36m123\u001b[0m\u001b[0;34m,\u001b[0m \u001b[0mj\u001b[0m\u001b[0;34m)\u001b[0m\u001b[0;34m\u001b[0m\u001b[0;34m\u001b[0m\u001b[0m\n\u001b[0;32m----> 6\u001b[0;31m     \u001b[0mtimelist\u001b[0m\u001b[0;34m.\u001b[0m\u001b[0mappend\u001b[0m\u001b[0;34m(\u001b[0m\u001b[0mmultiplication\u001b[0m\u001b[0;34m(\u001b[0m\u001b[0mMatrix1\u001b[0m\u001b[0;34m.\u001b[0m\u001b[0mT\u001b[0m\u001b[0;34m,\u001b[0m \u001b[0mMatrix1\u001b[0m\u001b[0;34m)\u001b[0m\u001b[0;34m)\u001b[0m\u001b[0;34m\u001b[0m\u001b[0;34m\u001b[0m\u001b[0m\n\u001b[0m",
      "\u001b[0;32m/var/folders/2z/h4ypwr2j2f70t152_xqwp5w40000gn/T/ipykernel_62185/3290809026.py\u001b[0m in \u001b[0;36mmultiplication\u001b[0;34m(XX, YY)\u001b[0m\n\u001b[1;32m     10\u001b[0m      \u001b[0;31m# iterate through rows of Y\u001b[0m\u001b[0;34m\u001b[0m\u001b[0;34m\u001b[0m\u001b[0;34m\u001b[0m\u001b[0m\n\u001b[1;32m     11\u001b[0m             \u001b[0;32mfor\u001b[0m \u001b[0mk\u001b[0m \u001b[0;32min\u001b[0m \u001b[0mrange\u001b[0m\u001b[0;34m(\u001b[0m\u001b[0mYY_len\u001b[0m\u001b[0;34m)\u001b[0m\u001b[0;34m:\u001b[0m\u001b[0;34m\u001b[0m\u001b[0;34m\u001b[0m\u001b[0m\n\u001b[0;32m---> 12\u001b[0;31m                 \u001b[0mresult\u001b[0m\u001b[0;34m[\u001b[0m\u001b[0mi\u001b[0m\u001b[0;34m]\u001b[0m\u001b[0;34m[\u001b[0m\u001b[0mj\u001b[0m\u001b[0;34m]\u001b[0m \u001b[0;34m+=\u001b[0m \u001b[0mXX\u001b[0m\u001b[0;34m[\u001b[0m\u001b[0mi\u001b[0m\u001b[0;34m]\u001b[0m\u001b[0;34m[\u001b[0m\u001b[0mk\u001b[0m\u001b[0;34m]\u001b[0m \u001b[0;34m*\u001b[0m \u001b[0mYY\u001b[0m\u001b[0;34m[\u001b[0m\u001b[0mk\u001b[0m\u001b[0;34m]\u001b[0m\u001b[0;34m[\u001b[0m\u001b[0mj\u001b[0m\u001b[0;34m]\u001b[0m\u001b[0;34m\u001b[0m\u001b[0;34m\u001b[0m\u001b[0m\n\u001b[0m\u001b[1;32m     13\u001b[0m     \u001b[0;32mreturn\u001b[0m \u001b[0;34m(\u001b[0m\u001b[0mtime\u001b[0m\u001b[0;34m.\u001b[0m\u001b[0mtime\u001b[0m\u001b[0;34m(\u001b[0m\u001b[0;34m)\u001b[0m \u001b[0;34m-\u001b[0m \u001b[0mbegin_time\u001b[0m\u001b[0;34m)\u001b[0m\u001b[0;34m\u001b[0m\u001b[0;34m\u001b[0m\u001b[0m\n\u001b[1;32m     14\u001b[0m \u001b[0;34m\u001b[0m\u001b[0m\n",
      "\u001b[0;31mKeyboardInterrupt\u001b[0m: "
     ]
    }
   ],
   "source": [
    "Sizes = [40*k for k in range(12)]\n",
    "#print(Sizes)\n",
    "timelist = []\n",
    "for j in Sizes:\n",
    "    Matrix1 = generate_matrix(123, j)\n",
    "    timelist.append(multiplication(Matrix1.T, Matrix1))"
   ]
  },
  {
   "cell_type": "code",
   "execution_count": null,
   "id": "2862dd44",
   "metadata": {},
   "outputs": [],
   "source": [
    "Sizes = [40*k for k in range(1, 12)]\n",
    "#print(Sizes)\n",
    "timelist2 = []\n",
    "for j in Sizes:\n",
    "    Matrix1 = generate_matrix(j, 123)\n",
    "    timelist2.append(multiplication(Matrix1.T, Matrix1))"
   ]
  },
  {
   "cell_type": "code",
   "execution_count": null,
   "id": "cb54e9bb",
   "metadata": {},
   "outputs": [],
   "source": [
    "plt.figure(figsize=(12, 8))\n",
    "\n",
    "plt.plot([40*k for k in range(1, 12)], timelist[1:], linewidth=4, label = 'd = 40 to 440')\n",
    "plt.plot([40*k for k in range(1, 12)], timelist2, linewidth=4, label = 'N = 40 to 440')\n",
    "\n",
    "plt.legend(loc=\"upper right\", fontsize=15)\n",
    "plt.xlabel(r\"N, d\", fontsize=30)\n",
    "plt.ylabel(\"time\", fontsize=30)\n",
    "plt.title(r\"Зависимость времени работы от размера\", fontsize=30)\n",
    "plt.xticks(fontsize=25)\n",
    "plt.yticks(fontsize=25)\n",
    "plt.grid()"
   ]
  },
  {
   "cell_type": "code",
   "execution_count": null,
   "id": "4412189d",
   "metadata": {},
   "outputs": [],
   "source": [
    "Sizes = [200*k for k in range(1, 5)]\n",
    "#print(Sizes)\n",
    "timelist3 = []\n",
    "for j in Sizes:\n",
    "    Matrix1 = generate_matrix(123, j)\n",
    "    timelist3.append(multiplication(Matrix1.T, Matrix1))"
   ]
  },
  {
   "cell_type": "code",
   "execution_count": null,
   "id": "b4912228",
   "metadata": {},
   "outputs": [],
   "source": [
    "Sizes = [200*k for k in range(1, 5)]\n",
    "#print(Sizes)\n",
    "timelist4 = []\n",
    "for j in Sizes:\n",
    "    Matrix1 = generate_matrix(j, 123)\n",
    "    timelist4.append(multiplication(Matrix1.T, Matrix1))"
   ]
  },
  {
   "cell_type": "code",
   "execution_count": null,
   "id": "afe12432",
   "metadata": {},
   "outputs": [],
   "source": [
    "plt.figure(figsize=(12, 8))\n",
    "\n",
    "plt.plot([200*k for k in range(1, 5)], timelist3, linewidth=4, label = 'd = 200 to 800')\n",
    "plt.plot([200*k for k in range(1, 5)], timelist4, linewidth=4, label = 'N = 200 to 800')\n",
    "\n",
    "plt.legend(loc=\"upper right\", fontsize=15)\n",
    "plt.xlabel(r\"N, d\", fontsize=30)\n",
    "plt.ylabel(\"time\", fontsize=30)\n",
    "plt.title(r\"Зависимость времени работы от размера\", fontsize=30)\n",
    "plt.xticks(fontsize=25)\n",
    "plt.yticks(fontsize=25)\n",
    "plt.grid()"
   ]
  },
  {
   "cell_type": "code",
   "execution_count": 19,
   "id": "2bf46c39",
   "metadata": {},
   "outputs": [
    {
     "name": "stdout",
     "output_type": "stream",
     "text": [
      "19649.443056980635\n",
      "Минимальное значение функции 1 = 45922074190.612335\n",
      "x1, где достигается минимум = 4.276691212092229\n",
      "Минимальное значение функции 2 = 42208865154932.78\n",
      "x2, где достигается минимум = 19650.00055177286\n"
     ]
    }
   ],
   "source": [
    "# Поиск минимума функции\n",
    "from scipy.optimize import minimize_scalar\n",
    "from math import ceil, floor\n",
    "\n",
    "def func1(x):\n",
    "        return a1*x**(3/4) + b1*x**(-1/4) + c1*x\n",
    "    def func2(x):\n",
    "        return a2*x**(3/4) + b2*x**(-1/4) + c2*x\n",
    "\n",
    "def minimum_finding(t_comm):\n",
    "    t_comm = 1e-9\n",
    "    b_1_0 = N*(sum_t_loc)/(sum_t_loc + t_loc1[0])\n",
    "    #0 < b_1 <= b_1_0\n",
    "\n",
    "    a1 = - alpha * sum_t_loc\n",
    "    b1 = alpha * (sum_t_loc * N + t_comm)\n",
    "    c1 = beta * t_loc1[0]\n",
    "\n",
    "    a2 = alpha * t_loc1[0]\n",
    "    b2 = alpha * (t_comm)\n",
    "    c2 = beta * t_loc1[0]\n",
    "\n",
    "    \n",
    "\n",
    "    res1 = minimize_scalar(func1, bounds=(1,floor(b_1_0)), method='bounded')\n",
    "    res2 = minimize_scalar(func1, bounds=(ceil(b_1_0),N), method='bounded')\n",
    "\n",
    "    #print(b_1_0)\n",
    "    \n",
    "    res11 = floor(res1.x)\n",
    "    res12 = ceil(res1.x)\n",
    "    res21 = floor(res2.x)\n",
    "    res22 = ceil(res2.x)\n",
    "    fres11 = func1(res11)\n",
    "    fres12 = func1(res12)\n",
    "    fres21 = func2(res21)\n",
    "    fres22 = func2(res22)\n",
    "\n",
    "    if (fres11 < fres12):\n",
    "        result1 = [res11, fres11]\n",
    "    else:\n",
    "        result1 = [res12, fres12]\n",
    "\n",
    "\n",
    "    if (fres21 < fres22):\n",
    "        result2 = [res21, fres21]\n",
    "    else:\n",
    "        result2 = [res22, fres22]\n",
    "    \n",
    "    if (result1[1] < result2[1]):\n",
    "        result = [result1[0], result1[1]]\n",
    "    else:\n",
    "        result = [result2[0], result2[1]]\n",
    "\n",
    "    return result[0]"
   ]
  },
  {
   "cell_type": "code",
   "execution_count": 29,
   "id": "a6556503",
   "metadata": {},
   "outputs": [
    {
     "name": "stdout",
     "output_type": "stream",
     "text": [
      "[4, 45947333199.321465]\n",
      "[19650, 42208864096333.52]\n"
     ]
    }
   ],
   "source": [
    "res11 = floor(res1.x)\n",
    "res12 = ceil(res1.x)\n",
    "res21 = floor(res2.x)\n",
    "res22 = ceil(res2.x)\n",
    "fres11 = func1(res11)\n",
    "fres12 = func1(res12)\n",
    "fres21 = func2(res21)\n",
    "fres22 = func2(res22)\n",
    "\n",
    "\n",
    "if (fres11 < fres12):\n",
    "    result1 = [res11, fres11]\n",
    "else:\n",
    "    result1 = [res12, fres12]\n",
    "\n",
    "print(result1)\n",
    "\n",
    "if (fres21 < fres22):\n",
    "    result2 = [res21, fres21]\n",
    "else:\n",
    "    result2 = [res22, fres22]\n",
    "    \n",
    "print(result2)"
   ]
  },
  {
   "cell_type": "code",
   "execution_count": 30,
   "id": "a6a08ed9",
   "metadata": {},
   "outputs": [
    {
     "name": "stdout",
     "output_type": "stream",
     "text": [
      "[4, 45947333199.321465]\n"
     ]
    }
   ],
   "source": [
    "if (result1[1] < result2[1]):\n",
    "    result = [result1[0], result1[1]]\n",
    "else:\n",
    "    result = [result2[0], result2[1]]\n",
    "\n",
    "print(result)"
   ]
  },
  {
   "cell_type": "code",
   "execution_count": null,
   "id": "35a54b4c",
   "metadata": {},
   "outputs": [],
   "source": []
  }
 ],
 "metadata": {
  "kernelspec": {
   "display_name": "Python 3 (ipykernel)",
   "language": "python",
   "name": "python3"
  },
  "language_info": {
   "codemirror_mode": {
    "name": "ipython",
    "version": 3
   },
   "file_extension": ".py",
   "mimetype": "text/x-python",
   "name": "python",
   "nbconvert_exporter": "python",
   "pygments_lexer": "ipython3",
   "version": "3.8.0"
  }
 },
 "nbformat": 4,
 "nbformat_minor": 5
}
